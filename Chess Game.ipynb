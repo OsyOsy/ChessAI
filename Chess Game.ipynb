{
 "cells": [
  {
   "cell_type": "markdown",
   "metadata": {},
   "source": [
    "# Making a playable chess game with numpy and python"
   ]
  },
  {
   "cell_type": "code",
   "execution_count": null,
   "metadata": {},
   "outputs": [],
   "source": [
    "import numpy as np"
   ]
  },
  {
   "cell_type": "code",
   "execution_count": 2,
   "metadata": {},
   "outputs": [
    {
     "data": {
      "text/plain": [
       "array([[0, 0, 0, 0, 0, 0, 0, 0],\n",
       "       [0, 0, 0, 0, 0, 0, 0, 0],\n",
       "       [0, 0, 0, 0, 0, 0, 0, 0],\n",
       "       [0, 0, 0, 0, 0, 0, 0, 0],\n",
       "       [0, 0, 0, 0, 0, 0, 0, 0],\n",
       "       [0, 0, 0, 0, 0, 0, 0, 0],\n",
       "       [0, 0, 0, 0, 0, 0, 0, 0],\n",
       "       [0, 0, 0, 0, 0, 0, 0, 0]])"
      ]
     },
     "execution_count": 2,
     "metadata": {},
     "output_type": "execute_result"
    }
   ],
   "source": [
    "#We shall represent the board as an 8x8 numpy array\n",
    "Board = np.zeros((8, 8),  dtype=np.int) #np.int removes decimal point\n",
    "Board"
   ]
  },
  {
   "cell_type": "markdown",
   "metadata": {},
   "source": [
    "We shall represent the pieces by a 2 digit number:\n",
    "\n",
    "The first number repsents the piece type.\n",
    "Pawn = 1\n",
    "Rook = 2\n",
    "Knight = 3\n",
    "Bishop = 4\n",
    "Queen = 5\n",
    "King = 6\n",
    "\n",
    "The second represents if the piece is black or white. \n",
    "0 = White\n",
    "1 = Black\n",
    "\n",
    "e.g \n",
    "10 - is a white Pawn.\n",
    "61 - is a black King"
   ]
  },
  {
   "cell_type": "code",
   "execution_count": 3,
   "metadata": {},
   "outputs": [],
   "source": [
    "# Now we specify the starting position \n",
    "\n",
    "\n",
    "#Black's pieces \n",
    "Board[1][0:] = 11\n",
    "Board[0][0] = 21\n",
    "Board[0][1] = 31\n",
    "Board[0][2] = 41\n",
    "Board[0][3] = 51\n",
    "Board[0][4] = 61\n",
    "Board[0][5] = 41\n",
    "Board[0][6] = 31\n",
    "Board[0][7] = 21\n",
    "\n",
    "#White's pieces \n",
    "Board[6][0:] = 10\n",
    "Board[7][0] = 20\n",
    "Board[7][1] = 30\n",
    "Board[7][2] = 40\n",
    "Board[7][3] = 50\n",
    "Board[7][4] = 60\n",
    "Board[7][5] = 40\n",
    "Board[7][6] = 30\n",
    "Board[7][7] = 20"
   ]
  },
  {
   "cell_type": "code",
   "execution_count": 4,
   "metadata": {},
   "outputs": [
    {
     "data": {
      "text/plain": [
       "array([[21, 31, 41, 51, 61, 41, 31, 21],\n",
       "       [11, 11, 11, 11, 11, 11, 11, 11],\n",
       "       [ 0,  0,  0,  0,  0,  0,  0,  0],\n",
       "       [ 0,  0,  0,  0,  0,  0,  0,  0],\n",
       "       [ 0,  0,  0,  0,  0,  0,  0,  0],\n",
       "       [ 0,  0,  0,  0,  0,  0,  0,  0],\n",
       "       [10, 10, 10, 10, 10, 10, 10, 10],\n",
       "       [20, 30, 40, 50, 60, 40, 30, 20]])"
      ]
     },
     "execution_count": 4,
     "metadata": {},
     "output_type": "execute_result"
    }
   ],
   "source": [
    "Board"
   ]
  },
  {
   "cell_type": "markdown",
   "metadata": {},
   "source": [
    "# Here we stop nonsense moves\n"
   ]
  },
  {
   "cell_type": "code",
   "execution_count": 5,
   "metadata": {},
   "outputs": [],
   "source": [
    "#Here we create a function to check input values are allowable\n",
    "numbers = [str(i) for i in range(8)]\n",
    "Allowable_squares = []\n",
    "for i in numbers:\n",
    "    for j in numbers:\n",
    "        Allowable_squares.append(i+j)\n",
    "        \n",
    "def allowable_input(initial_square, target_square):\n",
    "    if initial_square not in Allowable_squares:\n",
    "        return False\n",
    "    if target_square not in Allowable_squares:\n",
    "        return False\n",
    "    else:\n",
    "        return True"
   ]
  },
  {
   "cell_type": "code",
   "execution_count": 6,
   "metadata": {},
   "outputs": [],
   "source": [
    "#Checking a piece has been selected\n",
    "def piece_selected(initial_square, target_square, chess_position):\n",
    "    if chess_position[int(initial_square[0])][int(initial_square[1])] == 0:\n",
    "        return False\n",
    "    else:\n",
    "        return True  "
   ]
  },
  {
   "cell_type": "code",
   "execution_count": 7,
   "metadata": {},
   "outputs": [],
   "source": [
    "#checking player isnt attempting to take their own piece\n",
    "def no_self_sacrifice(initial_square, target_square, chess_position):\n",
    "    if chess_position[int(target_square[0])][int(target_square[1])] ==0:\n",
    "        return True\n",
    "    else:\n",
    "        initial_square_colour = str(chess_position[int(initial_square[0])][int(initial_square[1])])[1]\n",
    "        target_square_colour = str(chess_position[int(target_square[0])][int(target_square[1])])[1]\n",
    "    \n",
    "        if initial_square_colour == target_square_colour:\n",
    "            return False\n",
    "        else:\n",
    "            return True"
   ]
  },
  {
   "cell_type": "markdown",
   "metadata": {},
   "source": [
    "# We we start to define how pieces move"
   ]
  },
  {
   "cell_type": "code",
   "execution_count": 8,
   "metadata": {},
   "outputs": [
    {
     "data": {
      "text/plain": [
       "\"\\nI shall Group pieces together from easiest to hardest to write, depending on how they move.\\n\\n\\nGROUP 1: Depends only on immediate position, and other pieces do no influence how it moves.\\n\\n- Knight, although the knight jumps around the board, it has no special rules, indeed it can move to any square\\nas long as not occupied by one of its own. \\n\\n- Bishop, Queen - These pieces also have no special rules however, they are contrained by their own pieces as they can't\\njump unlie the knight\\n\\n-  Rook - Although the rook can castle, we shall consider that a move the king initiates rather than the rook\\n\\nGROUP 2: Depends on the move before:\\n\\n- Pawn - Be wary of en passant! - Also have to consider promotions\\n\\nGROUP 3: Depends on how pieces have moved throughout entire game.\\n\\n- King,- These pieces can move in special ways via castling, both king and queenside, so we have to \\ncreate functions that allow us to check if castling is legal, on either side: 1) King and Knight can't have already move. \\n2)You can't castle into or through check. It seems best to write these pieces last as these moves depend and can be \\ninflunced by every other piece. Note, movement rules do not depend on position but rather if thay have already moved.\\n\\nThe King is the most complex pieces.\\n\""
      ]
     },
     "execution_count": 8,
     "metadata": {},
     "output_type": "execute_result"
    }
   ],
   "source": [
    "\"\"\"\n",
    "I shall Group pieces together from easiest to hardest to write, depending on how they move.\n",
    "\n",
    "\n",
    "GROUP 1: Depends only on immediate position, and other pieces do no influence how it moves.\n",
    "\n",
    "- Knight, although the knight jumps around the board, it has no special rules, indeed it can move to any square\n",
    "as long as not occupied by one of its own. \n",
    "\n",
    "- Bishop, Queen - These pieces also have no special rules however, they are contrained by their own pieces as they can't\n",
    "jump unlie the knight\n",
    "\n",
    "-  Rook - Although the rook can castle, we shall consider that a move the king initiates rather than the rook\n",
    "\n",
    "GROUP 2: Depends on the move before:\n",
    "\n",
    "- Pawn - Be wary of en passant! - Also have to consider promotions\n",
    "\n",
    "GROUP 3: Depends on how pieces have moved throughout entire game.\n",
    "\n",
    "- King,- These pieces can move in special ways via castling, both king and queenside, so we have to \n",
    "create functions that allow us to check if castling is legal, on either side: 1) King and Knight can't have already move. \n",
    "2)You can't castle into or through check. It seems best to write these pieces last as these moves depend and can be \n",
    "influnced by every other piece. Note, movement rules do not depend on position but rather if thay have already moved.\n",
    "\n",
    "The King is the most complex pieces.\n",
    "\"\"\""
   ]
  },
  {
   "cell_type": "markdown",
   "metadata": {},
   "source": [
    "# Knight"
   ]
  },
  {
   "cell_type": "code",
   "execution_count": 9,
   "metadata": {},
   "outputs": [],
   "source": [
    "\"\"\"\n",
    "In essence whatever the starting position of white, we either add or subtract 1 or 2 to each square value\n",
    "If any are not on (0,7) then we remove them as they are not on the board\n",
    "If they land on their own piece its not allowed\n",
    "\"\"\"\n",
    "def possible_knight_positions(initial_square, chess_position): #Note enter initial_square as a str\n",
    "    \n",
    "    xlabel = int(initial_square[0]) \n",
    "    ylabel =int(initial_square[1]) \n",
    "    \n",
    "    #Possible knights moves\n",
    "    x_addition = np.array([-2,-2,-1,-1,1,1,2,2])\n",
    "    y_addition = np.array([1,-1,2,-2,2,-2,1,-1])\n",
    "    possible_x = x_addition + xlabel\n",
    "    possible_y = y_addition + ylabel\n",
    "    \n",
    "    tuple_of_possible_positions = list(zip(possible_x,possible_y))\n",
    "    \n",
    "    \n",
    "    #Removing tuples not on the board\n",
    "    acceptable_values = [0,1,2,3,4,5,6,7]\n",
    "    result1 = [i for i in tuple_of_possible_positions if i[0] in acceptable_values]\n",
    "    result2 = [i for i in result1 if i[1] in acceptable_values]\n",
    "    \n",
    "    \n",
    "    #Removing tuples that represent taking own piece\n",
    "    result3 = []\n",
    "    for i in result2:\n",
    "        string_of_i = str(i[0]) + str(i[1])\n",
    "        if no_self_sacrifice(initial_square, string_of_i, chess_position) == True:\n",
    "            result3.append(i)\n",
    "    \n",
    "   \n",
    "    return result3"
   ]
  },
  {
   "cell_type": "markdown",
   "metadata": {},
   "source": [
    "# Bishop"
   ]
  },
  {
   "cell_type": "code",
   "execution_count": 10,
   "metadata": {},
   "outputs": [],
   "source": [
    "\"\"\"\n",
    "The Bishop can move in 4 directions, as bishop traverses a diagonal the index increments either:\n",
    "We call them:\n",
    "UR: (-1,1)  #Upper Right\n",
    "UL: (-1,-1) #Upper Left\n",
    "LL: (1,-1)  #Lower Left\n",
    "LR: (1,1)   #Lower Right\n",
    "\"\"\"\n",
    "def possible_bishop_positions(initial_square,chess_position):\n",
    "    tuple_of_possible_positions = []\n",
    "    xlabel = int(initial_square[0]) \n",
    "    ylabel =int(initial_square[1]) \n",
    "    \n",
    " \n",
    "    \n",
    "    #First we check the possibilities in UR (-1,1) \n",
    "    new_xlabel = xlabel\n",
    "    new_ylabel = ylabel\n",
    "    \n",
    "    while True:\n",
    "        new_xlabel -= 1\n",
    "        new_ylabel += 1\n",
    "        if new_xlabel < 0:\n",
    "            break\n",
    "        if new_ylabel <0:\n",
    "            break\n",
    "        if new_xlabel >7:\n",
    "            break\n",
    "        if new_ylabel >7:\n",
    "            break   \n",
    "            \n",
    "        if chess_position[new_xlabel][new_ylabel] == 0:\n",
    "            tuple_of_possible_positions.append((new_xlabel,new_ylabel))\n",
    "      \n",
    "        elif str(chess_position[new_xlabel][new_ylabel])[1] != str(chess_position[xlabel][ylabel])[1]:\n",
    "            tuple_of_possible_positions.append((new_xlabel,new_ylabel))\n",
    "            break\n",
    "   \n",
    "        else:\n",
    "            break\n",
    "    \n",
    "    #Then we check the possibilities in UL (-1,-1)\n",
    "    new_xlabel = xlabel\n",
    "    new_ylabel = ylabel\n",
    "    while True:\n",
    "        \n",
    "        new_xlabel -= 1\n",
    "        new_ylabel -= 1\n",
    "        if new_xlabel < 0:\n",
    "            break\n",
    "        if new_ylabel <0:\n",
    "            break\n",
    "        if new_xlabel >7:\n",
    "            break\n",
    "        if new_ylabel >7:\n",
    "            break   \n",
    "            \n",
    "        if chess_position[new_xlabel][new_ylabel] == 0:\n",
    "            tuple_of_possible_positions.append((new_xlabel,new_ylabel))\n",
    "      \n",
    "        elif str(chess_position[new_xlabel][new_ylabel])[1] != str(chess_position[xlabel][ylabel])[1]:\n",
    "            tuple_of_possible_positions.append((new_xlabel,new_ylabel))\n",
    "            break\n",
    "   \n",
    "        else:\n",
    "            break\n",
    "    \n",
    "    \n",
    "    \n",
    "    \n",
    "    #Then we check the possibilities in LL (1,-1)\n",
    "    new_xlabel = xlabel\n",
    "    new_ylabel = ylabel\n",
    "    while True:\n",
    "        \n",
    "        new_xlabel += 1\n",
    "        new_ylabel -= 1\n",
    "        if new_xlabel < 0:\n",
    "            break\n",
    "        if new_ylabel <0:\n",
    "            break\n",
    "        if new_xlabel >7:\n",
    "            break\n",
    "        if new_ylabel >7:\n",
    "            break  \n",
    "            \n",
    "        if chess_position[new_xlabel][new_ylabel] == 0:\n",
    "            tuple_of_possible_positions.append((new_xlabel,new_ylabel))\n",
    "      \n",
    "        elif str(chess_position[new_xlabel][new_ylabel])[1] != str(chess_position[xlabel][ylabel])[1]:\n",
    "            tuple_of_possible_positions.append((new_xlabel,new_ylabel))\n",
    "            break\n",
    "   \n",
    "        else:\n",
    "            break\n",
    "    \n",
    "    #Then we check the possibilities in LR (1,1)\n",
    "    new_xlabel = xlabel\n",
    "    new_ylabel = ylabel\n",
    "    while True:\n",
    "        new_xlabel += 1\n",
    "        new_ylabel += 1\n",
    "        if new_xlabel <0:\n",
    "            break\n",
    "        if new_ylabel <0:\n",
    "            break\n",
    "        if new_xlabel >7:\n",
    "            break\n",
    "        if new_ylabel >7:\n",
    "            break   \n",
    "        \n",
    "        if chess_position[new_xlabel][new_ylabel] == 0:\n",
    "            tuple_of_possible_positions.append((new_xlabel,new_ylabel))\n",
    "      \n",
    "        elif str(chess_position[new_xlabel][new_ylabel])[1] != str(chess_position[xlabel][ylabel])[1]:\n",
    "            tuple_of_possible_positions.append((new_xlabel,new_ylabel))\n",
    "            break\n",
    "   \n",
    "        else:\n",
    "            break\n",
    "    \n",
    "    \n",
    "    return tuple_of_possible_positions\n",
    "    \n",
    "    \n",
    "    "
   ]
  },
  {
   "cell_type": "code",
   "execution_count": 11,
   "metadata": {},
   "outputs": [
    {
     "data": {
      "text/plain": [
       "[(5, 3), (4, 4), (3, 5), (2, 6), (1, 7), (5, 1), (4, 0)]"
      ]
     },
     "execution_count": 11,
     "metadata": {},
     "output_type": "execute_result"
    }
   ],
   "source": [
    "possible_bishop_positions('62',Board)"
   ]
  },
  {
   "cell_type": "code",
   "execution_count": 12,
   "metadata": {},
   "outputs": [
    {
     "data": {
      "text/plain": [
       "[(5, 3), (4, 4), (3, 5), (2, 6), (1, 7), (5, 1), (4, 0)]"
      ]
     },
     "execution_count": 12,
     "metadata": {},
     "output_type": "execute_result"
    }
   ],
   "source": [
    "possible_bishop_positions('62',Board)"
   ]
  },
  {
   "cell_type": "markdown",
   "metadata": {},
   "source": [
    "# Rook\n"
   ]
  },
  {
   "cell_type": "code",
   "execution_count": 13,
   "metadata": {},
   "outputs": [],
   "source": [
    "\"\"\"\n",
    "The Rook can move in 4 directions:\n",
    "We call them:\n",
    "U: (-1,0)  #Upper Right\n",
    "D: (1,0) #Upper Left\n",
    "L: (0,-1)  #Lower Left\n",
    "R: (0,1)   #Lower Right\n",
    "\"\"\"\n",
    "def possible_rook_positions(initial_square,chess_position):\n",
    "    tuple_of_possible_positions = []\n",
    "    xlabel = int(initial_square[0]) \n",
    "    ylabel =int(initial_square[1]) \n",
    "    \n",
    " \n",
    "    \n",
    "    #First we check the possibilities in U: (-1,0) #Upper Right\n",
    "    new_xlabel = xlabel\n",
    "    new_ylabel = ylabel\n",
    "    \n",
    "    while True:\n",
    "        new_xlabel -= 1\n",
    "        \n",
    "        if new_xlabel < 0:\n",
    "            break\n",
    "       \n",
    "        if new_xlabel >7:\n",
    "            break\n",
    "         \n",
    "            \n",
    "        if chess_position[new_xlabel][new_ylabel] == 0:\n",
    "            tuple_of_possible_positions.append((new_xlabel,new_ylabel))\n",
    "      \n",
    "        elif str(chess_position[new_xlabel][new_ylabel])[1] != str(chess_position[xlabel][ylabel])[1]:\n",
    "            tuple_of_possible_positions.append((new_xlabel,new_ylabel))\n",
    "            break\n",
    "   \n",
    "        else:\n",
    "            break\n",
    "    \n",
    "    #Then we check the possibilities in D: (1,0) #Upper Left\n",
    "    new_xlabel = xlabel\n",
    "    new_ylabel = ylabel\n",
    "    while True:\n",
    "        \n",
    "        new_xlabel += 1\n",
    "        \n",
    "        if new_xlabel < 0:\n",
    "            break\n",
    "        \n",
    "        if new_xlabel >7:\n",
    "            break\n",
    "       \n",
    "            \n",
    "        if chess_position[new_xlabel][new_ylabel] == 0:\n",
    "            tuple_of_possible_positions.append((new_xlabel,new_ylabel))\n",
    "      \n",
    "        elif str(chess_position[new_xlabel][new_ylabel])[1] != str(chess_position[xlabel][ylabel])[1]:\n",
    "            tuple_of_possible_positions.append((new_xlabel,new_ylabel))\n",
    "            break\n",
    "   \n",
    "        else:\n",
    "            break\n",
    "    \n",
    "    \n",
    "    \n",
    "    \n",
    "    #Then we check the possibilities in L: (0,-1)  #Lower Left\n",
    "    new_xlabel = xlabel\n",
    "    new_ylabel = ylabel\n",
    "    \n",
    "    while True:\n",
    "        new_ylabel -= 1\n",
    "        \n",
    "        if new_ylabel <0:\n",
    "            break\n",
    "        \n",
    "        if new_ylabel >7:\n",
    "            break  \n",
    "            \n",
    "        if chess_position[new_xlabel][new_ylabel] == 0:\n",
    "            tuple_of_possible_positions.append((new_xlabel,new_ylabel))\n",
    "      \n",
    "        elif str(chess_position[new_xlabel][new_ylabel])[1] != str(chess_position[xlabel][ylabel])[1]:\n",
    "            tuple_of_possible_positions.append((new_xlabel,new_ylabel))\n",
    "            break\n",
    "   \n",
    "        else:\n",
    "            break\n",
    "    \n",
    "    #Then we check the possibilities in R: (0,1) #Lower Right\n",
    "    new_xlabel = xlabel\n",
    "    new_ylabel = ylabel\n",
    "    while True:\n",
    "        \n",
    "        new_ylabel += 1\n",
    "        \n",
    "        if new_ylabel <0:\n",
    "            break\n",
    "            \n",
    "        if new_ylabel >7:\n",
    "            break   \n",
    "        \n",
    "        if chess_position[new_xlabel][new_ylabel] == 0:\n",
    "            tuple_of_possible_positions.append((new_xlabel,new_ylabel))\n",
    "      \n",
    "        elif str(chess_position[new_xlabel][new_ylabel])[1] != str(chess_position[xlabel][ylabel])[1]:\n",
    "            tuple_of_possible_positions.append((new_xlabel,new_ylabel))\n",
    "            break\n",
    "   \n",
    "        else:\n",
    "            break\n",
    "    \n",
    "    \n",
    "    return tuple_of_possible_positions"
   ]
  },
  {
   "cell_type": "markdown",
   "metadata": {},
   "source": [
    "# Queen"
   ]
  },
  {
   "cell_type": "code",
   "execution_count": 14,
   "metadata": {},
   "outputs": [],
   "source": [
    "#The Queen moves the same as a rook and a bishop\n",
    "def possible_queen_positions(initial_square,chess_position):\n",
    "    \n",
    "    possible_queen_positions = possible_rook_positions(initial_square,chess_position) + \\\n",
    "    possible_bishop_positions(initial_square,chess_position)\n",
    "    \n",
    "    return possible_queen_positions"
   ]
  },
  {
   "cell_type": "markdown",
   "metadata": {},
   "source": [
    "# White Pawns\n"
   ]
  },
  {
   "cell_type": "markdown",
   "metadata": {},
   "source": [
    "\n"
   ]
  },
  {
   "cell_type": "code",
   "execution_count": 15,
   "metadata": {},
   "outputs": [],
   "source": [
    "#To account for enpassant, we shall \n",
    "def enpassant():\n",
    "    if True:\n",
    "        return 'y'\n",
    "    if False:\n",
    "        return False"
   ]
  },
  {
   "cell_type": "code",
   "execution_count": 16,
   "metadata": {},
   "outputs": [],
   "source": [
    "#Here the direction Matters\n",
    "def possible_white_pawn_positions(initial_square,chess_position, enpassant = False, Promotion = 'Queen'):\n",
    "    tuple_of_possible_positions = []\n",
    "    xlabel = int(initial_square[0]) \n",
    "    ylabel =int(initial_square[1]) \n",
    "    \n",
    "    \n",
    "    tuple_of_possible_positions = []\n",
    "    #Pawn can move one or two places if it is yet to move\n",
    "    if xlabel == 6:\n",
    "        if chess_position[xlabel -1 ][ylabel] == 0:\n",
    "            tuple_of_possible_positions.append((xlabel-1,ylabel))\n",
    "            if chess_position[xlabel -2 ][ylabel] ==0:\n",
    "                tuple_of_possible_positions.append((xlabel-2,ylabel))\n",
    "            \n",
    "    #If pawn has moved it can only move one piece forward\n",
    "    if xlabel != 6:\n",
    "        if chess_position[xlabel -1 ][ylabel] == 0:\n",
    "            tuple_of_possible_positions.append((xlabel-1,ylabel))\n",
    "\n",
    "                                  \n",
    "\n",
    "    #Capturing pieces forward left                                                                                  \n",
    "    if chess_position[xlabel -1][ylabel-1] != 0:\n",
    "        if str(chess_position[xlabel][ylabel])[1] != str(chess_position[xlabel -1 ][ylabel -1])[1]:\n",
    "            tuple_of_possible_positions.append((xlabel-1,ylabel-1))\n",
    "           \n",
    "        \n",
    "    #Capturing pieces forward right                                                                                  \n",
    "    if chess_position[xlabel -1][ylabel+1] != 0:\n",
    "        if str(chess_position[xlabel][ylabel])[1] != str(chess_position[xlabel -1 ][ylabel +1])[1]:\n",
    "            tuple_of_possible_positions.append((xlabel-1,ylabel+1))                                      \n",
    "    \n",
    "    #EN-Passant \n",
    "    #Note to determine if enpassant is permetting i will have a function enpassant, either outputting False or the rank permitted                                          \n",
    "    if xlabel == 3:\n",
    "        if enpassant != False:\n",
    "            tuple_of_possible_positions.append((2,enpassant()))\n",
    "    return tuple_of_possible_positions "
   ]
  },
  {
   "cell_type": "code",
   "execution_count": 17,
   "metadata": {},
   "outputs": [
    {
     "data": {
      "text/plain": [
       "array([[21, 31, 41, 51, 61, 41, 31, 21],\n",
       "       [11, 11, 11, 11, 11, 11, 11, 11],\n",
       "       [ 0,  0,  0,  0,  0,  0,  0,  0],\n",
       "       [ 0,  0,  0,  0,  0,  0,  0,  0],\n",
       "       [ 0,  0,  0,  0,  0, 11,  0,  0],\n",
       "       [ 0, 11,  0,  0,  0,  0,  0,  0],\n",
       "       [10, 10, 10, 10, 10, 10, 10, 10],\n",
       "       [20, 30, 40, 50, 60, 40, 30, 20]])"
      ]
     },
     "execution_count": 17,
     "metadata": {},
     "output_type": "execute_result"
    }
   ],
   "source": [
    "Board[5][1] = 11\n",
    "Board[4][5] = 11\n",
    "Board"
   ]
  },
  {
   "cell_type": "code",
   "execution_count": 18,
   "metadata": {},
   "outputs": [
    {
     "data": {
      "text/plain": [
       "[(5, 0), (4, 0), (5, 1)]"
      ]
     },
     "execution_count": 18,
     "metadata": {},
     "output_type": "execute_result"
    }
   ],
   "source": [
    "possible_white_pawn_positions('60',Board)"
   ]
  },
  {
   "cell_type": "markdown",
   "metadata": {},
   "source": [
    "# Black pawns"
   ]
  },
  {
   "cell_type": "code",
   "execution_count": 27,
   "metadata": {},
   "outputs": [],
   "source": [
    "def possible_black_pawn_positions(initial_square,chess_position, enpassant = False, Promotion = 'Queen'):\n",
    "    tuple_of_possible_positions = []\n",
    "    xlabel = int(initial_square[0]) \n",
    "    ylabel =int(initial_square[1]) \n",
    "    \n",
    "    \n",
    "    #Start we white pawns\n",
    "    tuple_of_possible_positions = []\n",
    "    #Pawn can move one or two places if it is yet to move\n",
    "    if xlabel == 1:\n",
    "        if chess_position[xlabel +1 ][ylabel] == 0:\n",
    "            tuple_of_possible_positions.append((xlabel+1,ylabel))\n",
    "            if chess_position[xlabel +2 ][ylabel] ==0:\n",
    "                tuple_of_possible_positions.append((xlabel+2,ylabel))\n",
    "    ####\n",
    "    #If pawn has moved it can only move one piece forward\n",
    "    if xlabel != 1:\n",
    "        if chess_position[xlabel +1 ][ylabel] == 0:\n",
    "            tuple_of_possible_positions.append((xlabel+1,ylabel))\n",
    "    \n",
    "    #Capturing pieces forward left                                                                                  \n",
    "    if chess_position[xlabel +1 ][ylabel+1] != 0:\n",
    "        if str(chess_position[xlabel][ylabel])[1] != str(chess_position[xlabel +1 ][ylabel +1])[1]:\n",
    "            tuple_of_possible_positions.append((xlabel-1,ylabel-1))\n",
    "            \n",
    "        \n",
    "    #Capturing pieces forward right                                                                                  \n",
    "    if chess_position[xlabel +1 ][ylabel-1] != 0:\n",
    "        if str(chess_position[xlabel][ylabel])[1] != str(chess_position[xlabel +1 ][ylabel -1])[1]:\n",
    "            tuple_of_possible_positions.append((xlabel+1,ylabel-1))                                      \n",
    "    \n",
    "                                               \n",
    "  \n",
    "        \n",
    "    return tuple_of_possible_positions    "
   ]
  },
  {
   "cell_type": "code",
   "execution_count": 28,
   "metadata": {},
   "outputs": [
    {
     "data": {
      "text/plain": [
       "array([[21, 31, 41, 51, 61, 41, 31, 21],\n",
       "       [11, 11, 11, 11, 11, 11, 11, 11],\n",
       "       [ 0,  0,  0,  0,  0,  0,  0,  0],\n",
       "       [ 0,  0,  0,  0,  0,  0,  0,  0],\n",
       "       [ 0,  0,  0,  0,  0, 11,  0,  0],\n",
       "       [ 0, 11,  0,  0,  0,  0,  0,  0],\n",
       "       [10, 10, 10, 10, 10, 10, 10, 10],\n",
       "       [20, 30, 40, 50, 60, 40, 30, 20]])"
      ]
     },
     "execution_count": 28,
     "metadata": {},
     "output_type": "execute_result"
    }
   ],
   "source": [
    "Board"
   ]
  },
  {
   "cell_type": "code",
   "execution_count": 29,
   "metadata": {},
   "outputs": [
    {
     "data": {
      "text/plain": [
       "[(2, 3), (3, 3)]"
      ]
     },
     "execution_count": 29,
     "metadata": {},
     "output_type": "execute_result"
    }
   ],
   "source": [
    "possible_black_pawn_positions('13',Board)"
   ]
  },
  {
   "cell_type": "code",
   "execution_count": null,
   "metadata": {},
   "outputs": [],
   "source": [
    "#As a precursor"
   ]
  },
  {
   "cell_type": "code",
   "execution_count": null,
   "metadata": {},
   "outputs": [],
   "source": [
    "#As a precursor to generating allowable king moves, we make a list of every \n",
    "#Square that the opponents pieces are attacking\n",
    "def Squares_Black_attacking(position):\n",
    "    attacking_squares = []\n",
    "    \n",
    "    \n",
    "    \n",
    "    \n",
    "    \n",
    "    \n",
    "    \n",
    "    \n",
    "    \n",
    "    \n",
    "    \n",
    "    \n",
    "    \n",
    "def Squares_White_attacking(position):"
   ]
  },
  {
   "cell_type": "code",
   "execution_count": null,
   "metadata": {},
   "outputs": [],
   "source": [
    "def possible_King_positions(initial_square, position, Castle_avaible_kingside = False, Castle_avaible_queenside = False):\n",
    "    xlabel = int(initial_square[0]) \n",
    "    ylabel =int(initial_square[1]) \n",
    "    \n",
    "    #Possible Kings moves\n",
    "    x_addition = np.array([-1,-1,-1,0,0,1,1,1])\n",
    "    y_addition = np.array([-1,0,1,-1,1,-1,0,+1])\n",
    "    possible_x = x_addition + xlabel\n",
    "    possible_y = y_addition + ylabel\n",
    "    tuple_of_possible_positions = list(zip(possible_x,possible_y))\n",
    "    \n",
    "    #But the King Can't mobve into check, so we remove all values that correspond going to check \n",
    "    \n",
    "    \n",
    "    \n",
    "    "
   ]
  },
  {
   "cell_type": "code",
   "execution_count": null,
   "metadata": {},
   "outputs": [],
   "source": [
    "#First we write a function to alter our Board\n",
    "def move_a_piece(initial_square, target_square, chess_position): #Enter a digit number corresponding to our Board array\n",
    "    if initial_square not in Allowable_squares:\n",
    "        print('target_square format incorrect')\n",
    "    elif target_square not in Allowable_squares:\n",
    "        print('target_square format incorrect')\n",
    "    else:\n",
    "        initial_square_index1, initial_square_index2 = int(initial_square[0]) , int(initial_square[1])\n",
    "        target_square_index1, target_square_index2 = int(target_square[0]) , int(target_square[1])\n",
    "        print(chess_position[initial_square_index1],chess_position[initial_square_index1])\n",
    "    "
   ]
  },
  {
   "cell_type": "code",
   "execution_count": null,
   "metadata": {},
   "outputs": [],
   "source": [
    "'01'[0]"
   ]
  },
  {
   "cell_type": "code",
   "execution_count": null,
   "metadata": {},
   "outputs": [],
   "source": [
    "move_a_piece('01', '02')\n",
    "    "
   ]
  },
  {
   "cell_type": "code",
   "execution_count": null,
   "metadata": {},
   "outputs": [],
   "source": []
  },
  {
   "cell_type": "code",
   "execution_count": null,
   "metadata": {},
   "outputs": [],
   "source": []
  },
  {
   "cell_type": "code",
   "execution_count": null,
   "metadata": {},
   "outputs": [],
   "source": [
    "game_over = False\n",
    "turn ==0:\n",
    "while not game_over:\n",
    "    if turn == 0:\n",
    "        move == input()\n",
    "    \n",
    "    if turn == 0:\n",
    "        "
   ]
  }
 ],
 "metadata": {
  "kernelspec": {
   "display_name": "Python 3",
   "language": "python",
   "name": "python3"
  },
  "language_info": {
   "codemirror_mode": {
    "name": "ipython",
    "version": 3
   },
   "file_extension": ".py",
   "mimetype": "text/x-python",
   "name": "python",
   "nbconvert_exporter": "python",
   "pygments_lexer": "ipython3",
   "version": "3.7.3"
  }
 },
 "nbformat": 4,
 "nbformat_minor": 2
}
