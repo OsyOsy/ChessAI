{
 "cells": [
  {
   "cell_type": "markdown",
   "metadata": {},
   "source": [
    "# Making a playable chess game with numpy and python"
   ]
  },
  {
   "cell_type": "code",
   "execution_count": 1,
   "metadata": {},
   "outputs": [],
   "source": [
    "import numpy as np"
   ]
  },
  {
   "cell_type": "markdown",
   "metadata": {},
   "source": [
    "We shall represent the pieces by a 2 digit number:\n",
    "\n",
    "The first number repsents the piece type.\n",
    "Pawn = 1\n",
    "Rook = 2\n",
    "Knight = 3\n",
    "Bishop = 4\n",
    "Queen = 5\n",
    "King = 6\n",
    "\n",
    "The second represents if the piece is black or white. \n",
    "0 = White\n",
    "1 = Black\n",
    "\n",
    "e.g \n",
    "10 - is a white Pawn.\n",
    "61 - is a black King"
   ]
  },
  {
   "cell_type": "code",
   "execution_count": 2,
   "metadata": {},
   "outputs": [],
   "source": [
    "def create_board():\n",
    "    #We shall represent the board as an 8x8 numpy array\n",
    "    Board = np.zeros((8, 8),  dtype=np.int) #np.int removes decimal point\n",
    "    \n",
    "    # Now we specify the starting position \n",
    "    #Black's pieces \n",
    "    Board[1][0:] = 11\n",
    "    Board[0][0] = 21\n",
    "    Board[0][1] = 31\n",
    "    Board[0][2] = 41\n",
    "    Board[0][3] = 51\n",
    "    Board[0][4] = 61\n",
    "    Board[0][5] = 41\n",
    "    Board[0][6] = 31\n",
    "    Board[0][7] = 21\n",
    "\n",
    "    #White's pieces \n",
    "    Board[6][0:] = 10\n",
    "    Board[7][0] = 20\n",
    "    Board[7][1] = 30\n",
    "    Board[7][2] = 40\n",
    "    Board[7][3] = 50\n",
    "    Board[7][4] = 60\n",
    "    Board[7][5] = 40\n",
    "    Board[7][6] = 30\n",
    "    Board[7][7] = 20\n",
    "    \n",
    "    return Board"
   ]
  },
  {
   "cell_type": "code",
   "execution_count": 3,
   "metadata": {},
   "outputs": [],
   "source": [
    "Board = create_board() "
   ]
  },
  {
   "cell_type": "markdown",
   "metadata": {},
   "source": [
    "# Here we stop nonsense moves\n"
   ]
  },
  {
   "cell_type": "code",
   "execution_count": 4,
   "metadata": {},
   "outputs": [],
   "source": [
    "#Here we create a function to check input values are allowable\n",
    "\n",
    "        \n",
    "def allowable_input(initial_square, target_square):\n",
    "    \n",
    "    numbers = [str(i) for i in range(8)]\n",
    "    Allowable_squares = []\n",
    "    for i in numbers:\n",
    "        for j in numbers:\n",
    "            Allowable_squares.append(i+j)\n",
    "    \n",
    "    \n",
    "    if initial_square not in Allowable_squares:\n",
    "        return False\n",
    "    if target_square not in Allowable_squares:\n",
    "        return False\n",
    "    else:\n",
    "        return True"
   ]
  },
  {
   "cell_type": "code",
   "execution_count": 5,
   "metadata": {},
   "outputs": [],
   "source": [
    "#Checking a piece has been selected\n",
    "def piece_selected(initial_square,\n",
    "                   target_square, \n",
    "                   chess_position):\n",
    "    \n",
    "    if chess_position[int(initial_square[0])][int(initial_square[1])] == 0:\n",
    "        return False\n",
    "    else:\n",
    "        return True  "
   ]
  },
  {
   "cell_type": "code",
   "execution_count": 6,
   "metadata": {},
   "outputs": [],
   "source": [
    "#checking player isnt attempting to take their own piece\n",
    "def no_self_sacrifice(initial_square,\n",
    "                      target_square, \n",
    "                      chess_position):\n",
    "    \n",
    "    if chess_position[int(target_square[0])][int(target_square[1])] ==0:\n",
    "        return True\n",
    "    else:\n",
    "        initial_square_colour = str(chess_position[int(initial_square[0])]\\\n",
    "                                    [int(initial_square[1])])[1]\n",
    "        target_square_colour = str(chess_position[int(target_square[0])]\\\n",
    "                                   [int(target_square[1])])[1]\n",
    "    \n",
    "        if initial_square_colour == target_square_colour:\n",
    "            return False\n",
    "        else:\n",
    "            return True"
   ]
  },
  {
   "cell_type": "markdown",
   "metadata": {},
   "source": [
    "# We we start to define how pieces move"
   ]
  },
  {
   "cell_type": "code",
   "execution_count": 7,
   "metadata": {},
   "outputs": [
    {
     "data": {
      "text/plain": [
       "\"\\nI shall Group pieces together from easiest to hardest to write, depending on how they move.\\n\\n\\nGROUP 1: Depends only on immediate position, and other pieces do no influence how it moves.\\n\\n- Knight, although the knight jumps around the board, it has no special rules, indeed it can move to any square\\nas long as not occupied by one of its own. \\n\\n- Bishop, Queen - These pieces also have no special rules however, they are contrained by their own pieces as they can't\\njump unlie the knight\\n\\n-  Rook - Although the rook can castle, we shall consider that a move the king initiates rather than the rook\\n\\nGROUP 2: Depends on the move before:\\n\\n- Pawn - Be wary of en passant! - Also have to consider promotions\\n\\nGROUP 3: Depends on how pieces have moved throughout entire game.\\n\\n- King,- These pieces can move in special ways via castling, both king and queenside, so we have to \\ncreate functions that allow us to check if castling is legal, on either side: 1) King and Knight can't have already move. \\n2)You can't castle into or through check. It seems best to write these pieces last as these moves depend and can be \\ninflunced by every other piece. Note, movement rules do not depend on position but rather if thay have already moved.\\n\\nThe King is the most complex pieces.\\n\""
      ]
     },
     "execution_count": 7,
     "metadata": {},
     "output_type": "execute_result"
    }
   ],
   "source": [
    "\"\"\"\n",
    "I shall Group pieces together from easiest to hardest to write, depending on how they move.\n",
    "\n",
    "\n",
    "GROUP 1: Depends only on immediate position, and other pieces do no influence how it moves.\n",
    "\n",
    "- Knight, although the knight jumps around the board, it has no special rules, indeed it can move to any square\n",
    "as long as not occupied by one of its own. \n",
    "\n",
    "- Bishop, Queen - These pieces also have no special rules however, they are contrained by their own pieces as they can't\n",
    "jump unlie the knight\n",
    "\n",
    "-  Rook - Although the rook can castle, we shall consider that a move the king initiates rather than the rook\n",
    "\n",
    "GROUP 2: Depends on the move before:\n",
    "\n",
    "- Pawn - Be wary of en passant! - Also have to consider promotions\n",
    "\n",
    "GROUP 3: Depends on how pieces have moved throughout entire game.\n",
    "\n",
    "- King,- These pieces can move in special ways via castling, both king and queenside, so we have to \n",
    "create functions that allow us to check if castling is legal, on either side: 1) King and Knight can't have already move. \n",
    "2)You can't castle into or through check. It seems best to write these pieces last as these moves depend and can be \n",
    "influnced by every other piece. Note, movement rules do not depend on position but rather if thay have already moved.\n",
    "\n",
    "The King is the most complex pieces.\n",
    "\"\"\""
   ]
  },
  {
   "cell_type": "markdown",
   "metadata": {},
   "source": [
    "# Knight"
   ]
  },
  {
   "cell_type": "code",
   "execution_count": 8,
   "metadata": {},
   "outputs": [],
   "source": [
    "\"\"\"\n",
    "In essence whatever the starting position of white, we either add or subtract 1 or 2 to each square value\n",
    "If any are not on (0,7) then we remove them as they are not on the board\n",
    "If they land on their own piece its not allowed\n",
    "\"\"\"\n",
    "def possible_knight_positions(initial_square, #Note enter initial_square as a str\n",
    "                              chess_position): \n",
    "    \n",
    "    xlabel = int(initial_square[0]) \n",
    "    ylabel =int(initial_square[1]) \n",
    "    \n",
    "    #Possible knights moves\n",
    "    x_addition = np.array([-2,-2,-1,-1,1,1,2,2])\n",
    "    y_addition = np.array([1,-1,2,-2,2,-2,1,-1])\n",
    "    possible_x = x_addition + xlabel\n",
    "    possible_y = y_addition + ylabel\n",
    "    \n",
    "    tuple_of_possible_positions = list(zip(possible_x,possible_y))\n",
    "    \n",
    "    \n",
    "    #Removing tuples not on the board\n",
    "    acceptable_values = [0,1,2,3,4,5,6,7]\n",
    "    result1 = [i for i in tuple_of_possible_positions if i[0] in acceptable_values]\n",
    "    result2 = [i for i in result1 if i[1] in acceptable_values]\n",
    "    \n",
    "    \n",
    "    #Removing tuples that represent taking own piece\n",
    "    result3 = []\n",
    "    for i in result2:\n",
    "        string_of_i = str(i[0]) + str(i[1])\n",
    "        if no_self_sacrifice(initial_square, string_of_i, chess_position) == True:\n",
    "            result3.append(i)\n",
    "    \n",
    "   \n",
    "    return result3"
   ]
  },
  {
   "cell_type": "markdown",
   "metadata": {},
   "source": [
    "# Bishop"
   ]
  },
  {
   "cell_type": "code",
   "execution_count": 9,
   "metadata": {},
   "outputs": [],
   "source": [
    "\"\"\"\n",
    "The Bishop can move in 4 directions, as bishop traverses a diagonal the index increments either:\n",
    "We call them:\n",
    "UR: (-1,1)  #Upper Right\n",
    "UL: (-1,-1) #Upper Left\n",
    "LL: (1,-1)  #Lower Left\n",
    "LR: (1,1)   #Lower Right\n",
    "\"\"\"\n",
    "def possible_bishop_positions(initial_square,chess_position):\n",
    "    tuple_of_possible_positions = []\n",
    "    xlabel = int(initial_square[0]) \n",
    "    ylabel =int(initial_square[1]) \n",
    "    \n",
    " \n",
    "    \n",
    "    #First we check the possibilities in UR (-1,1) \n",
    "    new_xlabel = xlabel\n",
    "    new_ylabel = ylabel\n",
    "    \n",
    "    while True:\n",
    "        new_xlabel -= 1\n",
    "        new_ylabel += 1\n",
    "        if new_xlabel < 0:\n",
    "            break\n",
    "        if new_ylabel <0:\n",
    "            break\n",
    "        if new_xlabel >7:\n",
    "            break\n",
    "        if new_ylabel >7:\n",
    "            break   \n",
    "            \n",
    "        if chess_position[new_xlabel][new_ylabel] == 0:\n",
    "            tuple_of_possible_positions.append((new_xlabel,new_ylabel))\n",
    "      \n",
    "        elif str(chess_position[new_xlabel][new_ylabel])[1] !=\\\n",
    "        str(chess_position[xlabel][ylabel])[1]:\n",
    "            \n",
    "            tuple_of_possible_positions.append((new_xlabel,new_ylabel))\n",
    "            break\n",
    "   \n",
    "        else:\n",
    "            break\n",
    "    \n",
    "    #Then we check the possibilities in UL (-1,-1)\n",
    "    new_xlabel = xlabel\n",
    "    new_ylabel = ylabel\n",
    "    while True:\n",
    "        \n",
    "        new_xlabel -= 1\n",
    "        new_ylabel -= 1\n",
    "        if new_xlabel < 0:\n",
    "            break\n",
    "        if new_ylabel <0:\n",
    "            break\n",
    "        if new_xlabel >7:\n",
    "            break\n",
    "        if new_ylabel >7:\n",
    "            break   \n",
    "            \n",
    "        if chess_position[new_xlabel][new_ylabel] == 0:\n",
    "            tuple_of_possible_positions.append((new_xlabel,new_ylabel))\n",
    "      \n",
    "        elif str(chess_position[new_xlabel][new_ylabel])[1] !=\\\n",
    "        str(chess_position[xlabel][ylabel])[1]:\n",
    "            tuple_of_possible_positions.append((new_xlabel,new_ylabel))\n",
    "            break\n",
    "   \n",
    "        else:\n",
    "            break\n",
    "    \n",
    "    \n",
    "    \n",
    "    \n",
    "    #Then we check the possibilities in LL (1,-1)\n",
    "    new_xlabel = xlabel\n",
    "    new_ylabel = ylabel\n",
    "    while True:\n",
    "        \n",
    "        new_xlabel += 1\n",
    "        new_ylabel -= 1\n",
    "        if new_xlabel < 0:\n",
    "            break\n",
    "        if new_ylabel <0:\n",
    "            break\n",
    "        if new_xlabel >7:\n",
    "            break\n",
    "        if new_ylabel >7:\n",
    "            break  \n",
    "            \n",
    "        if chess_position[new_xlabel][new_ylabel] == 0:\n",
    "            tuple_of_possible_positions.append((new_xlabel,new_ylabel))\n",
    "      \n",
    "        elif str(chess_position[new_xlabel][new_ylabel])[1] !=\\\n",
    "        str(chess_position[xlabel][ylabel])[1]:\n",
    "            tuple_of_possible_positions.append((new_xlabel,new_ylabel))\n",
    "            break\n",
    "   \n",
    "        else:\n",
    "            break\n",
    "    \n",
    "    #Then we check the possibilities in LR (1,1)\n",
    "    new_xlabel = xlabel\n",
    "    new_ylabel = ylabel\n",
    "    while True:\n",
    "        new_xlabel += 1\n",
    "        new_ylabel += 1\n",
    "        if new_xlabel <0:\n",
    "            break\n",
    "        if new_ylabel <0:\n",
    "            break\n",
    "        if new_xlabel >7:\n",
    "            break\n",
    "        if new_ylabel >7:\n",
    "            break   \n",
    "        \n",
    "        if chess_position[new_xlabel][new_ylabel] == 0:\n",
    "            tuple_of_possible_positions.append((new_xlabel,new_ylabel))\n",
    "      \n",
    "        elif str(chess_position[new_xlabel][new_ylabel])[1] !=\\\n",
    "        str(chess_position[xlabel][ylabel])[1]:\n",
    "            tuple_of_possible_positions.append((new_xlabel,new_ylabel))\n",
    "            break\n",
    "   \n",
    "        else:\n",
    "            break\n",
    "    \n",
    "    \n",
    "    return tuple_of_possible_positions\n",
    "    \n",
    "    \n",
    "    "
   ]
  },
  {
   "cell_type": "markdown",
   "metadata": {},
   "source": [
    "# Rook\n"
   ]
  },
  {
   "cell_type": "code",
   "execution_count": 10,
   "metadata": {},
   "outputs": [],
   "source": [
    "\"\"\"\n",
    "The Rook can move in 4 directions:\n",
    "We call them:\n",
    "U: (-1,0)  #Upper Right\n",
    "D: (1,0) #Upper Left\n",
    "L: (0,-1)  #Lower Left\n",
    "R: (0,1)   #Lower Right\n",
    "\"\"\"\n",
    "def possible_rook_positions(initial_square,\n",
    "                            chess_position):\n",
    "    \n",
    "    tuple_of_possible_positions = []\n",
    "    xlabel = int(initial_square[0]) \n",
    "    ylabel =int(initial_square[1]) \n",
    "    \n",
    " \n",
    "    \n",
    "    #First we check the possibilities in U: (-1,0) #Upper Right\n",
    "    new_xlabel = xlabel\n",
    "    new_ylabel = ylabel\n",
    "    \n",
    "    while True:\n",
    "        new_xlabel -= 1\n",
    "        \n",
    "        if new_xlabel < 0:\n",
    "            break\n",
    "       \n",
    "        if new_xlabel >7:\n",
    "            break\n",
    "         \n",
    "            \n",
    "        if chess_position[new_xlabel][new_ylabel] == 0:\n",
    "            tuple_of_possible_positions.append((new_xlabel,new_ylabel))\n",
    "      \n",
    "        elif str(chess_position[new_xlabel][new_ylabel])[1] !=\\\n",
    "        str(chess_position[xlabel][ylabel])[1]:\n",
    "            tuple_of_possible_positions.append((new_xlabel,new_ylabel))\n",
    "            break\n",
    "   \n",
    "        else:\n",
    "            break\n",
    "    \n",
    "    #Then we check the possibilities in D: (1,0) #Upper Left\n",
    "    new_xlabel = xlabel\n",
    "    new_ylabel = ylabel\n",
    "    while True:\n",
    "        \n",
    "        new_xlabel += 1\n",
    "        \n",
    "        if new_xlabel < 0:\n",
    "            break\n",
    "        \n",
    "        if new_xlabel >7:\n",
    "            break\n",
    "       \n",
    "            \n",
    "        if chess_position[new_xlabel][new_ylabel] == 0:\n",
    "            tuple_of_possible_positions.append((new_xlabel,new_ylabel))\n",
    "      \n",
    "        elif str(chess_position[new_xlabel][new_ylabel])[1] !=\\\n",
    "        str(chess_position[xlabel][ylabel])[1]:\n",
    "            tuple_of_possible_positions.append((new_xlabel,new_ylabel))\n",
    "            break\n",
    "   \n",
    "        else:\n",
    "            break\n",
    "    \n",
    "    \n",
    "    \n",
    "    \n",
    "    #Then we check the possibilities in L: (0,-1)  #Lower Left\n",
    "    new_xlabel = xlabel\n",
    "    new_ylabel = ylabel\n",
    "    \n",
    "    while True:\n",
    "        new_ylabel -= 1\n",
    "        \n",
    "        if new_ylabel <0:\n",
    "            break\n",
    "        \n",
    "        if new_ylabel >7:\n",
    "            break  \n",
    "            \n",
    "        if chess_position[new_xlabel][new_ylabel] == 0:\n",
    "            tuple_of_possible_positions.append((new_xlabel,new_ylabel))\n",
    "      \n",
    "        elif str(chess_position[new_xlabel][new_ylabel])[1] !=\\\n",
    "        str(chess_position[xlabel][ylabel])[1]:\n",
    "            tuple_of_possible_positions.append((new_xlabel,new_ylabel))\n",
    "            break\n",
    "   \n",
    "        else:\n",
    "            break\n",
    "    \n",
    "    #Then we check the possibilities in R: (0,1) #Lower Right\n",
    "    new_xlabel = xlabel\n",
    "    new_ylabel = ylabel\n",
    "    while True:\n",
    "        \n",
    "        new_ylabel += 1\n",
    "        \n",
    "        if new_ylabel <0:\n",
    "            break\n",
    "            \n",
    "        if new_ylabel >7:\n",
    "            break   \n",
    "        \n",
    "        if chess_position[new_xlabel][new_ylabel] == 0:\n",
    "            tuple_of_possible_positions.append((new_xlabel,new_ylabel))\n",
    "      \n",
    "        elif str(chess_position[new_xlabel][new_ylabel])[1] !=\\\n",
    "        str(chess_position[xlabel][ylabel])[1]:\n",
    "            tuple_of_possible_positions.append((new_xlabel,new_ylabel))\n",
    "            break\n",
    "   \n",
    "        else:\n",
    "            break\n",
    "    \n",
    "    \n",
    "    return tuple_of_possible_positions"
   ]
  },
  {
   "cell_type": "markdown",
   "metadata": {},
   "source": [
    "# Queen"
   ]
  },
  {
   "cell_type": "code",
   "execution_count": 11,
   "metadata": {},
   "outputs": [],
   "source": [
    "#The Queen moves the same as a rook and a bishop\n",
    "def possible_queen_positions(initial_square,\n",
    "                             chess_position):\n",
    "    \n",
    "    possible_queen_positions = possible_rook_positions(initial_square,chess_position) + \\\n",
    "    possible_bishop_positions(initial_square,chess_position)\n",
    "    \n",
    "    return possible_queen_positions"
   ]
  },
  {
   "cell_type": "markdown",
   "metadata": {},
   "source": [
    "# White Pawns\n"
   ]
  },
  {
   "cell_type": "markdown",
   "metadata": {},
   "source": [
    "\n"
   ]
  },
  {
   "cell_type": "code",
   "execution_count": 12,
   "metadata": {},
   "outputs": [],
   "source": [
    "#To account for enpassant, we shall \n",
    "def enpassant():\n",
    "    if True:\n",
    "        return 'y'\n",
    "    if False:\n",
    "        return False"
   ]
  },
  {
   "cell_type": "code",
   "execution_count": 13,
   "metadata": {},
   "outputs": [
    {
     "name": "stdout",
     "output_type": "stream",
     "text": [
      "True\n"
     ]
    }
   ],
   "source": [
    "if 3 > 1 >=1:\n",
    "    print(True)"
   ]
  },
  {
   "cell_type": "code",
   "execution_count": 14,
   "metadata": {},
   "outputs": [],
   "source": [
    "#Here the direction Matters\n",
    "def possible_white_pawn_positions(initial_square,\n",
    "                                  chess_position, \n",
    "                                  enpassant = False, \n",
    "                                  Promotion = 'Queen'):\n",
    "    tuple_of_possible_positions = []\n",
    "    xlabel = int(initial_square[0]) \n",
    "    ylabel =int(initial_square[1]) \n",
    "    \n",
    "    \n",
    "    tuple_of_possible_positions = []\n",
    "    #Pawn can move one or two places if it is yet to move\n",
    "    if xlabel == 6:\n",
    "        if chess_position[xlabel -1 ][ylabel] == 0:\n",
    "            tuple_of_possible_positions.append((xlabel-1,ylabel))\n",
    "            if chess_position[xlabel -2 ][ylabel] ==0:\n",
    "                tuple_of_possible_positions.append((xlabel-2,ylabel))\n",
    "            \n",
    "    #If pawn has moved it can only move one piece forward\n",
    "    if xlabel != 6:\n",
    "        if chess_position[xlabel -1 ][ylabel] == 0:\n",
    "            tuple_of_possible_positions.append((xlabel-1,ylabel))\n",
    "\n",
    "                                  \n",
    "\n",
    "    #Capturing pieces forward left                                                                                  \n",
    "    if 7>= xlabel -1 >= 0:\n",
    "        if 7>= ylabel -1 >=0:\n",
    "            \n",
    "            if chess_position[xlabel -1][ylabel-1] != 0:\n",
    "                if str(chess_position[xlabel][ylabel])[1] !=\\\n",
    "                str(chess_position[xlabel -1 ][ylabel -1])[1]:\n",
    "                    tuple_of_possible_positions.append((xlabel-1,ylabel-1))\n",
    "           \n",
    "        \n",
    "    #Capturing pieces forward right                                                                                  \n",
    "    if 7>= xlabel -1 >= 0:\n",
    "        if 7>= ylabel +1 >=0:\n",
    "            if chess_position[xlabel -1][ylabel+1] != 0:\n",
    "                if str(chess_position[xlabel][ylabel])[1] !=\\\n",
    "                str(chess_position[xlabel -1 ][ylabel +1])[1]:\n",
    "                    tuple_of_possible_positions.append((xlabel-1,ylabel+1))                                      \n",
    "    \n",
    "    #EN-Passant \n",
    "    #Note to determine if enpassant is permetting i will have a function enpassant, \n",
    "    #either outputting False or the rank permitted                                          \n",
    "    if xlabel == 3:\n",
    "        if enpassant != False:\n",
    "            tuple_of_possible_positions.append((2,enpassant()))\n",
    "    return tuple_of_possible_positions "
   ]
  },
  {
   "cell_type": "code",
   "execution_count": 15,
   "metadata": {},
   "outputs": [
    {
     "data": {
      "text/plain": [
       "[(5, 3), (4, 3)]"
      ]
     },
     "execution_count": 15,
     "metadata": {},
     "output_type": "execute_result"
    }
   ],
   "source": [
    "possible_white_pawn_positions('63',Board)"
   ]
  },
  {
   "cell_type": "markdown",
   "metadata": {},
   "source": [
    "# Black pawns"
   ]
  },
  {
   "cell_type": "code",
   "execution_count": 16,
   "metadata": {},
   "outputs": [],
   "source": [
    "def possible_black_pawn_positions(initial_square,\n",
    "                                  chess_position,\n",
    "                                  enpassant = False,\n",
    "                                  Promotion = 'Queen'):\n",
    "    tuple_of_possible_positions = []\n",
    "    xlabel = int(initial_square[0]) \n",
    "    ylabel =int(initial_square[1]) \n",
    "    \n",
    "    \n",
    "    #Start we white pawns\n",
    "    tuple_of_possible_positions = []\n",
    "    #Pawn can move one or two places if it is yet to move\n",
    "    if xlabel == 1:\n",
    "        if chess_position[xlabel +1 ][ylabel] == 0:\n",
    "            tuple_of_possible_positions.append((xlabel+1,ylabel))\n",
    "            if chess_position[xlabel +2 ][ylabel] ==0:\n",
    "                tuple_of_possible_positions.append((xlabel+2,ylabel))\n",
    "    ####\n",
    "    #If pawn has moved it can only move one piece forward\n",
    "    if xlabel != 1:\n",
    "        if chess_position[xlabel +1 ][ylabel] == 0:\n",
    "            tuple_of_possible_positions.append((xlabel+1,ylabel))\n",
    "    \n",
    "    #Capturing pieces forward left                                                                                  \n",
    "    if 7>= xlabel +1 >= 0:\n",
    "        if 7>= ylabel +1 >=0:\n",
    "            if chess_position[xlabel +1 ][ylabel+1] != 0:\n",
    "                if str(chess_position[xlabel][ylabel])[1] !=\\\n",
    "                str(chess_position[xlabel +1 ][ylabel +1])[1]:\n",
    "                    tuple_of_possible_positions.append((xlabel-1,ylabel-1))\n",
    "            \n",
    "        \n",
    "    #Capturing pieces forward right                                                                                  \n",
    "    if 7>= xlabel +1 >= 0:\n",
    "        if 7>= ylabel -1 >=0:\n",
    "            if chess_position[xlabel +1 ][ylabel-1] != 0:\n",
    "                if str(chess_position[xlabel][ylabel])[1] !=\\\n",
    "                str(chess_position[xlabel +1 ][ylabel -1])[1]:\n",
    "                    tuple_of_possible_positions.append((xlabel+1,ylabel-1))                                      \n",
    "    \n",
    "                                               \n",
    "  \n",
    "        \n",
    "    return tuple_of_possible_positions    "
   ]
  },
  {
   "cell_type": "markdown",
   "metadata": {},
   "source": [
    "# We write a series of functions outputting squares attacked by all a colors pieces"
   ]
  },
  {
   "cell_type": "code",
   "execution_count": 17,
   "metadata": {},
   "outputs": [],
   "source": [
    "#We find all locations of pieces of a certain type"
   ]
  },
  {
   "cell_type": "code",
   "execution_count": 18,
   "metadata": {},
   "outputs": [],
   "source": [
    "def location_of_certain_piece(chess_position,\n",
    "                    color,# 'White' or 'Black'\n",
    "                    piece # 'Pawn', 'Rook', 'Knight','Bishop','Queen','King'\n",
    "                    ): \n",
    "    \n",
    "    if color == 'White':\n",
    "        if piece == 'Pawn':\n",
    "            specific_piece = 10\n",
    "        if piece == 'Rook':\n",
    "            specific_piece = 20\n",
    "        if piece == 'Knight':\n",
    "            specific_piece = 30\n",
    "        if piece == 'Bishop':\n",
    "            specific_piece = 40\n",
    "        if piece == 'Queen':\n",
    "            specific_piece = 50\n",
    "        if piece == 'King':\n",
    "            specific_piece = 60\n",
    "            \n",
    "    \n",
    "    if color == 'Black':\n",
    "        if piece == 'Pawn':\n",
    "            specific_piece = 11\n",
    "        if piece == 'Rook':\n",
    "            specific_piece = 21\n",
    "        if piece == 'Knight':\n",
    "            specific_piece = 31\n",
    "        if piece == 'Bishop':\n",
    "            specific_piece = 41\n",
    "        if piece == 'Queen':\n",
    "            specific_piece = 51\n",
    "        if piece == 'King':\n",
    "            specific_piece = 61\n",
    "    \n",
    "    #Getting locations\n",
    "    locations = np.where(chess_position == specific_piece)\n",
    "    #We convert numpy array to tuple\n",
    "    locations = tuple(map(tuple, locations))\n",
    "    #Note numpy gives us two arrays of x and y coordinates\n",
    "    #We want to convert this to a list of x and ys paired together\n",
    "    \n",
    "    x = list(locations[0])\n",
    "    y = list(locations[1])\n",
    "    list_of_tuples_of_locations = list(tuple(zip(x,y)))\n",
    "    return list_of_tuples_of_locations"
   ]
  },
  {
   "cell_type": "markdown",
   "metadata": {},
   "source": [
    "# Squares Attacked"
   ]
  },
  {
   "cell_type": "code",
   "execution_count": 19,
   "metadata": {},
   "outputs": [],
   "source": [
    "def convert_list_of_tuples_to_list_of_strings(list_of_tuples):\n",
    "    list_of_strings = []\n",
    "    for i in list_of_tuples:\n",
    "        string = str(i[0]) + str(i[1])\n",
    "        list_of_strings.append(string)\n",
    "    return list_of_strings"
   ]
  },
  {
   "cell_type": "code",
   "execution_count": 20,
   "metadata": {},
   "outputs": [],
   "source": [
    "def possible_naive_King_positions(initial_square, chess_position):\n",
    "    xlabel = int(initial_square[0]) \n",
    "    ylabel =int(initial_square[1]) \n",
    "    \n",
    "    #Possible Kings moves\n",
    "    x_addition = np.array([-1,-1,-1,0,0,1,1,1])\n",
    "    y_addition = np.array([-1,0,1,-1,1,-1,0,+1])\n",
    "    possible_x = x_addition + xlabel\n",
    "    possible_y = y_addition + ylabel\n",
    "    \n",
    "    tuple_of_possible_positions = list(zip(possible_x,possible_y))\n",
    "    #Removing tuples not on the board\n",
    "    acceptable_values = [0,1,2,3,4,5,6,7]\n",
    "    result1 = [i for i in tuple_of_possible_positions if i[0] in acceptable_values]\n",
    "    result2 = [i for i in result1 if i[1] in acceptable_values]\n",
    "    \n",
    "    \n",
    "    #Removing tuples that represent taking own piece\n",
    "    result3 = []\n",
    "    for i in result2:\n",
    "        string_of_i = str(i[0]) + str(i[1])\n",
    "        if no_self_sacrifice(initial_square, string_of_i, chess_position) == True:\n",
    "            result3.append(i)\n",
    "    \n",
    "   \n",
    "    return result3\n"
   ]
  },
  {
   "cell_type": "markdown",
   "metadata": {},
   "source": [
    "As a precursor to creating a function that generates all squares attacked by a certain color, we write a function that generates pieces attacked by pawns. As pawns are the only piece that can move to a square without the possibility of capturing a piece on that sqaure. e.g. pawns moving directly forwards. Note en passant is not included in attacking squares, as en passant only takes other pawns and doesnt attack the king!"
   ]
  },
  {
   "cell_type": "code",
   "execution_count": 21,
   "metadata": {},
   "outputs": [],
   "source": [
    "#Here the direction Matters\n",
    "def squares_white_pawns_attack(initial_square,\n",
    "                               chess_position\n",
    "                              ):\n",
    "    tuple_of_possible_positions = []\n",
    "    xlabel = int(initial_square[0]) \n",
    "    ylabel =int(initial_square[1]) \n",
    " \n",
    "    tuple_of_possible_positions = []\n",
    "\n",
    "    #Capturing pieces forward left                                                                                  \n",
    "    if 7>= xlabel -1 >= 0:\n",
    "        if 7>= ylabel -1 >=0:\n",
    "            if chess_position[xlabel -1][ylabel-1] != 0:\n",
    "                if str(chess_position[xlabel][ylabel])[1] !=\\\n",
    "                str(chess_position[xlabel -1 ][ylabel -1])[1]:\n",
    "                    tuple_of_possible_positions.append((xlabel-1,ylabel-1))\n",
    "\n",
    "    #Capturing pieces forward right                                                                                  \n",
    "    if 7>= xlabel -1 >= 0:\n",
    "        if 7>= ylabel +1 >=0:\n",
    "            if chess_position[xlabel -1][ylabel+1] != 0:\n",
    "                if str(chess_position[xlabel][ylabel])[1] !=\\\n",
    "                str(chess_position[xlabel -1 ][ylabel +1])[1]:\n",
    "                    tuple_of_possible_positions.append((xlabel-1,ylabel+1))\n",
    "    \n",
    "     \n",
    "    return tuple_of_possible_positions \n",
    "    \n",
    "   "
   ]
  },
  {
   "cell_type": "code",
   "execution_count": 22,
   "metadata": {},
   "outputs": [],
   "source": [
    "def squares_black_pawns_attack(initial_square,\n",
    "                                  chess_position,\n",
    "                                  ):\n",
    "    tuple_of_possible_positions = []\n",
    "    xlabel = int(initial_square[0]) \n",
    "    ylabel =int(initial_square[1]) \n",
    "    \n",
    "    tuple_of_possible_positions = []\n",
    "    \n",
    "    #Capturing pieces forward left                                                                                  \n",
    "    if 7>= xlabel +1 >= 0:\n",
    "        if 7>= ylabel +1 >=0:\n",
    "            if chess_position[xlabel +1 ][ylabel+1] != 0:\n",
    "                if str(chess_position[xlabel][ylabel])[1] !=\\\n",
    "                str(chess_position[xlabel +1 ][ylabel +1])[1]:\n",
    "                    tuple_of_possible_positions.append((xlabel-1,ylabel-1))\n",
    "            \n",
    "        \n",
    "    #Capturing pieces forward right                                                                                  \n",
    "    if 7>= xlabel +1 >= 0:\n",
    "        if 7>= ylabel -1 >=0:\n",
    "            if chess_position[xlabel +1 ][ylabel-1] != 0:\n",
    "                if str(chess_position[xlabel][ylabel])[1] !=\\\n",
    "                str(chess_position[xlabel +1 ][ylabel -1])[1]:\n",
    "                    tuple_of_possible_positions.append((xlabel+1,ylabel-1))                                      \n",
    "    \n",
    "                                               \n",
    "  \n",
    "        \n",
    "    return tuple_of_possible_positions  "
   ]
  },
  {
   "cell_type": "code",
   "execution_count": 23,
   "metadata": {},
   "outputs": [],
   "source": [
    "def squares_attacked_by_side(chess_position,\n",
    "            color,# 'White' or 'Black'\n",
    "            piece # 'Pawn', 'Rook', 'Knight','Bishop','Queen','King'\n",
    "                    ): \n",
    "    \n",
    "                           \n",
    "    locations = location_of_certain_piece(chess_position,color,piece)\n",
    "    \n",
    "    locations = convert_list_of_tuples_to_list_of_strings(locations)\n",
    "    Attacked_Squares = []\n",
    "       \n",
    "        \n",
    "    if piece == 'Rook':\n",
    "        for i in locations:\n",
    "            squares = possible_rook_positions(i, chess_position)\n",
    "            Attacked_Squares.append(squares)\n",
    "            \n",
    "          \n",
    "    if piece == 'Knight':\n",
    "        for i in locations:\n",
    "            squares = possible_knight_positions(i,chess_position)\n",
    "            Attacked_Squares.append(squares)\n",
    "        \n",
    "        \n",
    "    if piece == 'Bishop':\n",
    "        for i in locations:\n",
    "            squares = possible_bishop_positions(i,chess_position)\n",
    "            Attacked_Squares.append(squares)\n",
    "        \n",
    "    if piece == 'Queen':\n",
    "        for i in locations:\n",
    "            squares = possible_queen_positions(i,chess_position)\n",
    "            Attacked_Squares.append(squares)\n",
    "        \n",
    "    if piece == 'King':\n",
    "        for i in locations:\n",
    "            squares = possible_naive_King_positions(i,chess_position)\n",
    "            Attacked_Squares.append(squares)\n",
    "    \n",
    "    if color == 'White':\n",
    "        if piece == 'Pawn':\n",
    "            for i in locations:\n",
    "                squares = squares_white_pawns_attack(i, chess_position)\n",
    "                Attacked_Squares.append(squares)\n",
    "    if color == 'Black':\n",
    "        if piece == 'Pawn':\n",
    "            for i in locations:\n",
    "                squares = squares_black_pawns_attack(i, chess_position)\n",
    "                Attacked_Squares.append(squares)\n",
    "        \n",
    "    #Attacked_Squares is a list of lists\n",
    "    #We convert to a flatlist\n",
    "    Attacked_Squares = [item for sublist in Attacked_Squares for item in sublist]\n",
    "    #Remove multiples\n",
    "    Attacked_Squares = list(set(Attacked_Squares))\n",
    "    return Attacked_Squares"
   ]
  },
  {
   "cell_type": "code",
   "execution_count": 24,
   "metadata": {},
   "outputs": [],
   "source": [
    "def Squares_White_Attacks(chess_position):\n",
    "    pieces = ['Pawn', 'Rook', 'Knight','Bishop','Queen','King']\n",
    "    Squares_White_Attacks = []\n",
    "    for piece in pieces:\n",
    "        Squares_White_Attacks.append(squares_attacked_by_side(chess_position,'White',piece))\n",
    "    \n",
    "    \n",
    "    #We convert to a flatlist\n",
    "    Squares_White_Attacks = [item for sublist in Squares_White_Attacks for item in sublist]\n",
    "    #Remove multiples\n",
    "    Squares_White_Attacks = list(set(Squares_White_Attacks))\n",
    "    return Squares_White_Attacks\n",
    "    "
   ]
  },
  {
   "cell_type": "code",
   "execution_count": 25,
   "metadata": {},
   "outputs": [
    {
     "data": {
      "text/plain": [
       "[(5, 7), (5, 2), (5, 5), (5, 0)]"
      ]
     },
     "execution_count": 25,
     "metadata": {},
     "output_type": "execute_result"
    }
   ],
   "source": [
    "Squares_White_Attacks(Board)"
   ]
  },
  {
   "cell_type": "code",
   "execution_count": 26,
   "metadata": {},
   "outputs": [],
   "source": [
    "def Squares_Black_Attacks(chess_position):\n",
    "    pieces = ['Pawn', 'Rook', 'Knight','Bishop','Queen','King']\n",
    "    Squares_Black_Attacks = []\n",
    "    for piece in pieces:\n",
    "        Squares_Black_Attacks.append(squares_attacked_by_side(chess_position,'Black',piece))\n",
    "    \n",
    "    \n",
    "    #We convert to a flatlist\n",
    "    Squares_Black_Attacks = [item for sublist in Squares_Black_Attacks for item in sublist]\n",
    "    #Remove multiples\n",
    "    Squares_Black_Attacks = list(set(Squares_Black_Attacks))\n",
    "    return Squares_Black_Attacks"
   ]
  },
  {
   "cell_type": "code",
   "execution_count": 27,
   "metadata": {},
   "outputs": [],
   "source": [
    "#We now create a function that outputs all possible moves for white\n",
    "def all_possible_moves_white(chess_position):\n",
    "    all_moves = Squares_White_Attacks(chess_position)\n",
    "    \n",
    "    locations = location_of_certain_piece(chess_position,'White','Pawn')\n",
    "    \n",
    "    locations = convert_list_of_tuples_to_list_of_strings(locations)\n",
    "    \n",
    "    mylist = []\n",
    "    \n",
    "    for i in locations:\n",
    "        squares = possible_white_pawn_positions(i, chess_position)\n",
    "        \n",
    "        #print(squares)\n",
    "        \n",
    "        mylist.append(squares)\n",
    "        \n",
    "    all_moves = mylist + [all_moves]    \n",
    "    \n",
    "    #print(all_moves)\n",
    "    #We convert to a flatlist\n",
    "    all_moves = [item for sublist in all_moves for item in sublist]\n",
    "    #print(all_moves)\n",
    "    #Remove multiples\n",
    "    all_moves = list(set(all_moves))\n",
    "    return all_moves   "
   ]
  },
  {
   "cell_type": "code",
   "execution_count": 28,
   "metadata": {},
   "outputs": [],
   "source": [
    "#We now create a function that outputs all possible moves for black\n",
    "\n",
    "\n",
    "#We now create a function that outputs all possible moves for white\n",
    "def all_possible_moves_black(chess_position):\n",
    "    all_moves = Squares_Black_Attacks(chess_position)\n",
    "    \n",
    "    locations = location_of_certain_piece(chess_position,'Black','Pawn')\n",
    "    \n",
    "    locations = convert_list_of_tuples_to_list_of_strings(locations)\n",
    "    \n",
    "    mylist = []\n",
    "    \n",
    "    for i in locations:\n",
    "        squares = possible_black_pawn_positions(i, chess_position)\n",
    "        \n",
    "        #print(squares)\n",
    "        \n",
    "        mylist.append(squares)\n",
    "        \n",
    "    all_moves = mylist + [all_moves]    \n",
    "    \n",
    "    #print(all_moves)\n",
    "    #We convert to a flatlist\n",
    "    all_moves = [item for sublist in all_moves for item in sublist]\n",
    "    #print(all_moves)\n",
    "    #Remove multiples\n",
    "    all_moves = list(set(all_moves))\n",
    "    return all_moves  "
   ]
  },
  {
   "cell_type": "markdown",
   "metadata": {},
   "source": [
    "# Now we are ready to define how king moves"
   ]
  },
  {
   "cell_type": "code",
   "execution_count": 29,
   "metadata": {},
   "outputs": [],
   "source": [
    "def possible_White_King_positions(initial_square, chess_position, White_Queen_Side_Castle = False, White_King_Side_Castle = False):\n",
    "    \n",
    "    positions = possible_naive_King_positions(initial_square,chess_position)\n",
    "    \n",
    "    #We remove positions that correspond to moving into check\n",
    "    \n",
    "    Squares_Black_Attacks = Squares_Black_Attacks(chess_position)\n",
    "    \n",
    "    for square in Squares_Black_Attacks:\n",
    "        if square in positions:\n",
    "            positions.remove(square)\n",
    "    \n",
    "    \n",
    "    if White_Queen_Side_Castle == True:\n",
    "        positions.append((7,2))\n",
    "    if White_King_Side_Castle == True:\n",
    "        positions.append((7,6))\n",
    "        \n",
    "    \n",
    "    return positions\n",
    "    "
   ]
  },
  {
   "cell_type": "code",
   "execution_count": 30,
   "metadata": {},
   "outputs": [],
   "source": [
    "def possible_Black_King_positions(initial_square, \n",
    "                        chess_position, \n",
    "                        Black_Queen_Side_Castle = False, \n",
    "                        Black_King_Side_Castle = False):\n",
    "    \n",
    "    positions = possible_naive_King_positions(initial_square,chess_position)\n",
    "    \n",
    "    #We remove positions that correspond to moving into check\n",
    "    \n",
    "    Squares_White_Attacks = Squares_White_Attacks(chess_position)\n",
    "    \n",
    "    for square in Squares_White_Attacks:\n",
    "        if square in positions:\n",
    "            positions.remove(square)\n",
    "    \n",
    "    if Black_Queen_Side_Castle == True:\n",
    "        positions.append((0,2))\n",
    "    if Black_King_Side_Castle == True:\n",
    "        positions.append((0,6))  "
   ]
  },
  {
   "cell_type": "markdown",
   "metadata": {},
   "source": [
    "# Is White in Check?"
   ]
  },
  {
   "cell_type": "code",
   "execution_count": 31,
   "metadata": {},
   "outputs": [],
   "source": [
    "def is_white_in_check(chess_position):\n",
    "    \n",
    "    white_king = location_of_certain_piece(chess_position,'White','King')\n",
    "    \n",
    "    \n",
    "    #UnboundLocalError: local variable 'Squares_Black_Attacks' referenced before assignment\n",
    "    #To fix error i changed Squares_Black_Attacks to Squares_Black_Attacks_\n",
    "    Squares_Black_Attacks_ = Squares_Black_Attacks(chess_position)\n",
    "    \n",
    "\n",
    "    if white_king in Squares_Black_Attacks_:\n",
    "        return True\n",
    "    else:\n",
    "        return False"
   ]
  },
  {
   "cell_type": "markdown",
   "metadata": {},
   "source": [
    "# Is Black in Check?"
   ]
  },
  {
   "cell_type": "code",
   "execution_count": 50,
   "metadata": {},
   "outputs": [],
   "source": [
    "def is_black_in_check(chess_position):\n",
    "    \n",
    "    black_king = location_of_certain_piece(chess_position,'Black','King')\n",
    "    \n",
    "    \n",
    "    #UnboundLocalError: local variable 'Squares_Black_Attacks' referenced before assignment\n",
    "    #To fix error i changed Squares_Black_Attacks to Squares_Black_Attacks_\n",
    "    Squares_White_Attacks_ = Squares_White_Attacks(chess_position)\n",
    "    \n",
    "\n",
    "    if white_king in Squares_White_Attacks_:\n",
    "        return True\n",
    "    else:\n",
    "        return False"
   ]
  },
  {
   "cell_type": "code",
   "execution_count": null,
   "metadata": {},
   "outputs": [],
   "source": [
    "#First we write a function to alter our Board\n",
    "def is_move_legitimate(initial_square, \n",
    "                 target_square, \n",
    "                 chess_position, \n",
    "                 Turn #White or Black\n",
    "                ): \n",
    "    #Checking input is allowed\n",
    "    if allowable_input(initial_square, target_square) ==False:\n",
    "        return False\n",
    "    \n",
    "    #Checking squares selected correspond to an actual piece piece \n",
    "    if piece_selected(initial_square,target_square, chess_position)== False:\n",
    "        return False\n",
    "    \n",
    "    #FUNCTION TO CHECK PLAYER HAS SELECTED THEIR OWN PIECE\n",
    "    \n",
    "    #CHECK CONDITIONS ABOVE\n",
    "    \n",
    "    "
   ]
  },
  {
   "cell_type": "code",
   "execution_count": 35,
   "metadata": {},
   "outputs": [
    {
     "data": {
      "text/plain": [
       "array([[21, 31, 41, 51, 61, 41, 31, 21],\n",
       "       [11, 11, 11, 11, 11, 11, 11, 11],\n",
       "       [ 0,  0,  0,  0,  0,  0,  0,  0],\n",
       "       [ 0,  0,  0,  0,  0,  0,  0,  0],\n",
       "       [ 0,  0,  0,  0,  0,  0,  0,  0],\n",
       "       [ 0,  0,  0,  0,  0,  0,  0,  0],\n",
       "       [10, 10, 10, 10, 10, 10, 10, 10],\n",
       "       [20, 30, 40, 50, 60, 40, 30, 20]])"
      ]
     },
     "execution_count": 35,
     "metadata": {},
     "output_type": "execute_result"
    }
   ],
   "source": [
    "Board"
   ]
  },
  {
   "cell_type": "code",
   "execution_count": null,
   "metadata": {},
   "outputs": [],
   "source": [
    "#First we write a function to alter our Board\n",
    "def move_a_piece(initial_square, \n",
    "                 target_square, \n",
    "                 chess_position, \n",
    "                 Turn #White or Black\n",
    "                ): \n",
    " \n",
    " \n",
    "    xlabel_initial = int(initial_square[0]) \n",
    "    ylabel_initial =int(initial_square[1])\n",
    "    \n",
    "    xlabel_target = int(target_square[0]) \n",
    "    ylabel_target =int(target_square[1])\n",
    "    \n",
    "    piece = Board[xlabel_initial][ylabel_initial]\n",
    "    \n",
    "    \n",
    "    #For Any given move the initial square will always change to Zero, Hence\n",
    "    Board[xlabel_initial][ylabel_initial] = 0\n",
    "\n",
    "    #Pawn Premotion White\n",
    "    if piece == 10:\n",
    "        if xlabel_target ==0:\n",
    "            #Promoting to Queen\n",
    "            Board[xlabel_target][ylabel_target] = 50 #####NOTE Queen promotion defaulted, will change later\n",
    "                    \n",
    "    #Pawn Promotion Black\n",
    "    if piece == 11:\n",
    "        if xlabel_target ==7:\n",
    "            #Promoting to Queen\n",
    "            Board[xlabel_target][ylabel_target] = 51 #####NOTE Queen promotion defaulted, will change later\n",
    "            \n",
    "    #Specify special moves for: CASTLE Kingside Black\n",
    "    if piece == 61:\n",
    "        if initial_square == '04':\n",
    "            if target_square == '06':\n",
    "                #Moving the King\n",
    "                Board[xlabel_target][ylabel_target] = piece\n",
    "                #Move the Rook\n",
    "                Board[0][5] = 21\n",
    "                #Clear Rook\n",
    "                Board[0][7] = 0\n",
    "\n",
    "    #Specify special moves for: CASTLE Queenside Black    \n",
    "    if piece == 61:\n",
    "        if initial_square == '04':\n",
    "            if target_square == '02':\n",
    "                #Moving the King\n",
    "                Board[xlabel_target][ylabel_target] = piece\n",
    "                #Move the Rook\n",
    "                Board[0][3] = 21\n",
    "                #Clear Rook\n",
    "                Board[0][0] = 0\n",
    "\n",
    "    \n",
    "     #Specify special moves for: CASTLE Kingside White\n",
    "    if piece == 60:\n",
    "        if initial_square == '74':\n",
    "            if target_square == '76':\n",
    "                #Moving the King\n",
    "                Board[xlabel_target][ylabel_target] = piece\n",
    "                #Move the Rook\n",
    "                Board[7][5] = 20\n",
    "                #Clear Rook\n",
    "                Board[7][7] = 0\n",
    "\n",
    "    #Specify special moves for: CASTLE Queenside White  \n",
    "    if piece == 60:\n",
    "        if initial_square == '74':\n",
    "            if target_square == '72':\n",
    "                #Moving the King\n",
    "                Board[xlabel_target][ylabel_target] = piece\n",
    "                #Move the Rook\n",
    "                Board[7][3] = 20\n",
    "                #Clear Rook\n",
    "                Board[7][0] = 0\n",
    "    \n",
    "    #ENPASSANT White\n",
    "    if piece == 10:\n",
    "        #Check on right rank for enpassant\n",
    "        if xlabel_initial ==3:\n",
    "            #Check nothing on target square\n",
    "            if Board[xlabel_target][xlabel_target] == 0:\n",
    "                \n",
    "                if ylabel_initial -1 == ylabel_target:\n",
    "                    #Taking the pawn\n",
    "                    Board[3][ylabel_initial -1] = 0\n",
    "                    #Moving Square\n",
    "                    Board[xlabel_target][ylabel_target] = piece\n",
    "                \n",
    "                if ylabel_initial +1 == ylabel_target:\n",
    "                    #Taking the pawn\n",
    "                    Board[3][ylabel_initial +1] = 0\n",
    "                    #Moving Square\n",
    "                    Board[xlabel_target][ylabel_target] = piece\n",
    "                \n",
    "    \n",
    "    \n",
    "    #ENPASSANT BLACK\n",
    "     if piece == 11:\n",
    "        #Check on right rank for enpassant\n",
    "        if xlabel_initial ==4:\n",
    "            #Check nothing on target square\n",
    "            if Board[xlabel_target][xlabel_target] == 0:\n",
    "                \n",
    "                if ylabel_initial -1 == ylabel_target:\n",
    "                    #Taking the pawn\n",
    "                    Board[4][ylabel_initial -1] = 0\n",
    "                    #Moving Square\n",
    "                    Board[xlabel_target][ylabel_target] = piece\n",
    "                \n",
    "                if ylabel_initial +1 == ylabel_target:\n",
    "                    #Taking the pawn\n",
    "                    Board[4][ylabel_initial +1] = 0\n",
    "                    #Moving Square\n",
    "                    Board[xlabel_target][ylabel_target] = piece\n",
    "    \n",
    "    #REGULAR MOVES\n",
    "    else:\n",
    "        #Updating new Square\n",
    "        Board[xlabel_target][ylabel_target] = piece"
   ]
  },
  {
   "cell_type": "code",
   "execution_count": null,
   "metadata": {},
   "outputs": [],
   "source": []
  },
  {
   "cell_type": "code",
   "execution_count": null,
   "metadata": {},
   "outputs": [],
   "source": []
  },
  {
   "cell_type": "code",
   "execution_count": null,
   "metadata": {},
   "outputs": [],
   "source": []
  },
  {
   "cell_type": "code",
   "execution_count": null,
   "metadata": {},
   "outputs": [],
   "source": []
  },
  {
   "cell_type": "code",
   "execution_count": null,
   "metadata": {},
   "outputs": [],
   "source": []
  },
  {
   "cell_type": "code",
   "execution_count": null,
   "metadata": {},
   "outputs": [],
   "source": []
  },
  {
   "cell_type": "markdown",
   "metadata": {},
   "source": [
    "# Is White in CheckMate?"
   ]
  },
  {
   "cell_type": "code",
   "execution_count": 51,
   "metadata": {},
   "outputs": [
    {
     "ename": "SyntaxError",
     "evalue": "invalid syntax (<ipython-input-51-62d5d5d355f7>, line 10)",
     "output_type": "error",
     "traceback": [
      "\u001b[0;36m  File \u001b[0;32m\"<ipython-input-51-62d5d5d355f7>\"\u001b[0;36m, line \u001b[0;32m10\u001b[0m\n\u001b[0;31m    elif len(possible_naive_King_positions(initial_square, chess_position) != 0:\u001b[0m\n\u001b[0m       ^\u001b[0m\n\u001b[0;31mSyntaxError\u001b[0m\u001b[0;31m:\u001b[0m invalid syntax\n"
     ]
    }
   ],
   "source": [
    "def is_white_in_checkmate(chess_position):\n",
    "    if is_white_in_check(chess_position) == False:\n",
    "        return False\n",
    "    \n",
    "    #Checking king can't move\n",
    "        \n",
    "    initial_square = location_of_certain_piece(chess_position,'White', 'King')\n",
    "    initial_sqaure = convert_list_of_tuples_to_list_of_strings(initial_square)\n",
    "        \n",
    "    elif len(possible_naive_King_positions(initial_square, chess_position) != 0:\n",
    "               return False\n",
    "    \n",
    "    elif      :\n",
    "    elif:\n",
    "               \n",
    "    \n",
    "    \n",
    "    \n",
    "    \n",
    "    possible_naive_King_positions(initial_square, chess_position)"
   ]
  },
  {
   "cell_type": "code",
   "execution_count": null,
   "metadata": {},
   "outputs": [],
   "source": []
  },
  {
   "cell_type": "markdown",
   "metadata": {},
   "source": [
    "# Is Black in CheckMate?"
   ]
  },
  {
   "cell_type": "code",
   "execution_count": 52,
   "metadata": {},
   "outputs": [
    {
     "ename": "SyntaxError",
     "evalue": "unexpected EOF while parsing (<ipython-input-52-1e714a0b3926>, line 5)",
     "output_type": "error",
     "traceback": [
      "\u001b[0;36m  File \u001b[0;32m\"<ipython-input-52-1e714a0b3926>\"\u001b[0;36m, line \u001b[0;32m5\u001b[0m\n\u001b[0;31m    \u001b[0m\n\u001b[0m    ^\u001b[0m\n\u001b[0;31mSyntaxError\u001b[0m\u001b[0;31m:\u001b[0m unexpected EOF while parsing\n"
     ]
    }
   ],
   "source": [
    "def is_black_in_checkmate(chess_position):\n",
    "    if is_black_in_check(chess_position) == False:\n",
    "        return False\n",
    "    else:\n",
    "    "
   ]
  },
  {
   "cell_type": "markdown",
   "metadata": {},
   "source": [
    "# Is White in StaleMate?"
   ]
  },
  {
   "cell_type": "code",
   "execution_count": 53,
   "metadata": {},
   "outputs": [],
   "source": [
    "def is_white_in_stalemate(chess_position):\n",
    "    if is_white_in_check(chess_position) == True:\n",
    "        return False\n",
    "    else:\n",
    "        if len(all_possible_moves_black(chess_position))== 0:\n",
    "            return True  \n",
    "        \n",
    "        \n",
    "        "
   ]
  },
  {
   "cell_type": "markdown",
   "metadata": {},
   "source": [
    "# Is Black in StaleMate?"
   ]
  },
  {
   "cell_type": "code",
   "execution_count": 54,
   "metadata": {},
   "outputs": [],
   "source": [
    "def is_black_in_stalemate(chess_position):\n",
    "    if is_black_in_check(chess_position) == True:\n",
    "        return False\n",
    "    else:\n",
    "        if len(all_possible_moves_black(chess_position))== 0:\n",
    "            return True   \n",
    "        \n",
    "        \n",
    "        \n",
    "        \n",
    "        "
   ]
  },
  {
   "cell_type": "code",
   "execution_count": null,
   "metadata": {},
   "outputs": [],
   "source": []
  },
  {
   "cell_type": "code",
   "execution_count": null,
   "metadata": {},
   "outputs": [],
   "source": []
  },
  {
   "cell_type": "code",
   "execution_count": null,
   "metadata": {},
   "outputs": [],
   "source": []
  },
  {
   "cell_type": "code",
   "execution_count": null,
   "metadata": {},
   "outputs": [],
   "source": []
  },
  {
   "cell_type": "code",
   "execution_count": 55,
   "metadata": {},
   "outputs": [],
   "source": []
  },
  {
   "cell_type": "code",
   "execution_count": 56,
   "metadata": {},
   "outputs": [
    {
     "data": {
      "text/plain": [
       "'0'"
      ]
     },
     "execution_count": 56,
     "metadata": {},
     "output_type": "execute_result"
    }
   ],
   "source": [
    "'01'[0]"
   ]
  },
  {
   "cell_type": "code",
   "execution_count": 57,
   "metadata": {},
   "outputs": [
    {
     "ename": "TypeError",
     "evalue": "move_a_piece() missing 1 required positional argument: 'chess_position'",
     "output_type": "error",
     "traceback": [
      "\u001b[0;31m---------------------------------------------------------------------------\u001b[0m",
      "\u001b[0;31mTypeError\u001b[0m                                 Traceback (most recent call last)",
      "\u001b[0;32m<ipython-input-57-15041f4c85c6>\u001b[0m in \u001b[0;36m<module>\u001b[0;34m\u001b[0m\n\u001b[0;32m----> 1\u001b[0;31m \u001b[0mmove_a_piece\u001b[0m\u001b[0;34m(\u001b[0m\u001b[0;34m'01'\u001b[0m\u001b[0;34m,\u001b[0m \u001b[0;34m'02'\u001b[0m\u001b[0;34m)\u001b[0m\u001b[0;34m\u001b[0m\u001b[0;34m\u001b[0m\u001b[0m\n\u001b[0m\u001b[1;32m      2\u001b[0m \u001b[0;34m\u001b[0m\u001b[0m\n",
      "\u001b[0;31mTypeError\u001b[0m: move_a_piece() missing 1 required positional argument: 'chess_position'"
     ]
    }
   ],
   "source": [
    "move_a_piece('01', '02')\n",
    "    "
   ]
  },
  {
   "cell_type": "code",
   "execution_count": null,
   "metadata": {},
   "outputs": [],
   "source": []
  },
  {
   "cell_type": "code",
   "execution_count": null,
   "metadata": {},
   "outputs": [],
   "source": []
  },
  {
   "cell_type": "code",
   "execution_count": 34,
   "metadata": {},
   "outputs": [
    {
     "ename": "SyntaxError",
     "evalue": "unexpected EOF while parsing (<ipython-input-34-aeafa4e0196e>, line 13)",
     "output_type": "error",
     "traceback": [
      "\u001b[0;36m  File \u001b[0;32m\"<ipython-input-34-aeafa4e0196e>\"\u001b[0;36m, line \u001b[0;32m13\u001b[0m\n\u001b[0;31m    #Black moves\u001b[0m\n\u001b[0m                ^\u001b[0m\n\u001b[0;31mSyntaxError\u001b[0m\u001b[0;31m:\u001b[0m unexpected EOF while parsing\n"
     ]
    }
   ],
   "source": [
    "game_over = False\n",
    "turn = 0\n",
    "\n",
    "while not game_over:\n",
    "    #White moves\n",
    "    \n",
    "    if turn == 0:\n",
    "        move == input()\n",
    "    \n",
    "    if turn == 0:\n",
    "       \n",
    "    \n",
    "    #Black moves"
   ]
  },
  {
   "cell_type": "code",
   "execution_count": null,
   "metadata": {},
   "outputs": [],
   "source": []
  }
 ],
 "metadata": {
  "kernelspec": {
   "display_name": "Python 3",
   "language": "python",
   "name": "python3"
  },
  "language_info": {
   "codemirror_mode": {
    "name": "ipython",
    "version": 3
   },
   "file_extension": ".py",
   "mimetype": "text/x-python",
   "name": "python",
   "nbconvert_exporter": "python",
   "pygments_lexer": "ipython3",
   "version": "3.7.3"
  }
 },
 "nbformat": 4,
 "nbformat_minor": 2
}
