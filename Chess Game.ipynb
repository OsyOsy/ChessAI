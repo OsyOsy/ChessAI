{
 "cells": [
  {
   "cell_type": "markdown",
   "metadata": {},
   "source": [
    "# Making a playable chess game with numpy and python"
   ]
  },
  {
   "cell_type": "code",
   "execution_count": 1,
   "metadata": {},
   "outputs": [],
   "source": [
    "import numpy as np"
   ]
  },
  {
   "cell_type": "code",
   "execution_count": 2,
   "metadata": {},
   "outputs": [
    {
     "data": {
      "text/plain": [
       "array([[0, 0, 0, 0, 0, 0, 0, 0],\n",
       "       [0, 0, 0, 0, 0, 0, 0, 0],\n",
       "       [0, 0, 0, 0, 0, 0, 0, 0],\n",
       "       [0, 0, 0, 0, 0, 0, 0, 0],\n",
       "       [0, 0, 0, 0, 0, 0, 0, 0],\n",
       "       [0, 0, 0, 0, 0, 0, 0, 0],\n",
       "       [0, 0, 0, 0, 0, 0, 0, 0],\n",
       "       [0, 0, 0, 0, 0, 0, 0, 0]])"
      ]
     },
     "execution_count": 2,
     "metadata": {},
     "output_type": "execute_result"
    }
   ],
   "source": [
    "#We shall represent the board as an 8x8 numpy array\n",
    "Board = np.zeros((8, 8),  dtype=np.int) #np.int removes decimal point\n",
    "Board"
   ]
  },
  {
   "cell_type": "code",
   "execution_count": 3,
   "metadata": {},
   "outputs": [
    {
     "data": {
      "text/plain": [
       "'\\nWe shall represent the pieces by a 2 digit number:\\n\\nThe first number repsents the piece type.\\nPawn = 1\\nRook = 2\\nKnight = 3\\nBishop = 4\\nQueen = 5\\nKing = 6\\n\\nThe second represents if the piece is black or white. \\n0 = White\\n1 = Black\\n\\n\\ne.g \\n10 - is a white Pawn.\\n61 - is a black King\\n'"
      ]
     },
     "execution_count": 3,
     "metadata": {},
     "output_type": "execute_result"
    }
   ],
   "source": [
    "\"\"\"\n",
    "We shall represent the pieces by a 2 digit number:\n",
    "\n",
    "The first number repsents the piece type.\n",
    "Pawn = 1\n",
    "Rook = 2\n",
    "Knight = 3\n",
    "Bishop = 4\n",
    "Queen = 5\n",
    "King = 6\n",
    "\n",
    "The second represents if the piece is black or white. \n",
    "0 = White\n",
    "1 = Black\n",
    "\n",
    "\n",
    "e.g \n",
    "10 - is a white Pawn.\n",
    "61 - is a black King\n",
    "\"\"\""
   ]
  },
  {
   "cell_type": "code",
   "execution_count": 6,
   "metadata": {},
   "outputs": [],
   "source": [
    "# Now we specify the starting position \n",
    "\n",
    "\n",
    "#Blacks pieces \n",
    "Board[1][0:] = 11\n",
    "Board[0][0] = 21\n",
    "Board[0][1] = 31\n",
    "Board[0][2] = 41\n",
    "Board[0][3] = 51\n",
    "Board[0][4] = 61\n",
    "Board[0][5] = 41\n",
    "Board[0][6] = 31\n",
    "Board[0][7] = 21\n",
    "\n",
    "#Whitess pieces \n",
    "Board[6][0:] = 10\n",
    "Board[7][0] = 20\n",
    "Board[7][1] = 30\n",
    "Board[7][2] = 40\n",
    "Board[7][3] = 50\n",
    "Board[7][4] = 60\n",
    "Board[7][5] = 40\n",
    "Board[7][6] = 30\n",
    "Board[7][7] = 20"
   ]
  },
  {
   "cell_type": "code",
   "execution_count": 7,
   "metadata": {},
   "outputs": [
    {
     "data": {
      "text/plain": [
       "array([[21, 31, 41, 51, 61, 41, 31, 21],\n",
       "       [11, 11, 11, 11, 11, 11, 11, 11],\n",
       "       [ 0,  0,  0,  0,  0,  0,  0,  0],\n",
       "       [ 0,  0,  0,  0,  0,  0,  0,  0],\n",
       "       [ 0,  0,  0,  0,  0,  0,  0,  0],\n",
       "       [ 0,  0,  0,  0,  0,  0,  0,  0],\n",
       "       [10, 10, 10, 10, 10, 10, 10, 10],\n",
       "       [20, 30, 40, 50, 60, 40, 30, 20]])"
      ]
     },
     "execution_count": 7,
     "metadata": {},
     "output_type": "execute_result"
    }
   ],
   "source": [
    "Board"
   ]
  },
  {
   "cell_type": "code",
   "execution_count": null,
   "metadata": {},
   "outputs": [],
   "source": []
  },
  {
   "cell_type": "code",
   "execution_count": null,
   "metadata": {},
   "outputs": [],
   "source": [
    "Board[4][1] = 101"
   ]
  },
  {
   "cell_type": "code",
   "execution_count": null,
   "metadata": {},
   "outputs": [],
   "source": [
    "Board"
   ]
  },
  {
   "cell_type": "markdown",
   "metadata": {},
   "source": [
    "# Here we stop nonsense moves\n"
   ]
  },
  {
   "cell_type": "code",
   "execution_count": null,
   "metadata": {},
   "outputs": [],
   "source": [
    "#Here we create a function to check input values are allowable\n",
    "numbers = [str(i) for i in range(8)]\n",
    "Allowable_squares = []\n",
    "for i in numbers:\n",
    "    for j in numbers:\n",
    "        Allowable_squares.append(i+j)\n",
    "        \n",
    "def allowable_input(initial_square, target_square):\n",
    "    if initial_square not in Allowable_squares:\n",
    "        return False\n",
    "    if target_square not in Allowable_squares:\n",
    "        return False\n",
    "    else:\n",
    "        return True"
   ]
  },
  {
   "cell_type": "code",
   "execution_count": null,
   "metadata": {},
   "outputs": [],
   "source": [
    "#Checking a piece has been selected\n",
    "def piece_selected(initial_square, target_square, chess_position):\n",
    "    if chess_position[int(initial_square[0])][int(initial_square[1])] == 0:\n",
    "        return False\n",
    "    else:\n",
    "        return True  "
   ]
  },
  {
   "cell_type": "code",
   "execution_count": null,
   "metadata": {},
   "outputs": [],
   "source": [
    "#checking player isnt attempting to take their own piece\n",
    "def no_self_sacrifice(initial_square, target_square, chess_position):\n",
    "    if chess_position[int(target_square[0])][int(target_square[1])] ==0:\n",
    "        return True\n",
    "    else:\n",
    "        initial_square_colour = str(chess_position[int(initial_square[0])][int(initial_square[1])])[1]\n",
    "        target_square_colour = str(chess_position[int(target_square[0])][int(target_square[1])])[1]\n",
    "    \n",
    "        if initial_square_colour == target_square_colour:\n",
    "            return False\n",
    "        else:\n",
    "            return True"
   ]
  },
  {
   "cell_type": "markdown",
   "metadata": {},
   "source": [
    "# We we start to define how pieces move"
   ]
  },
  {
   "cell_type": "code",
   "execution_count": null,
   "metadata": {},
   "outputs": [],
   "source": [
    "\"\"\"\n",
    "I shall Group pieces together from easiest to hardest to write, depending on how they move.\n",
    "\n",
    "\n",
    "GROUP 1: Depends only on immediate position, and other pieces do no influence how it moves.\n",
    "\n",
    "- Knight, although the knight jumps around the board, it has no special rules, indeed it can move to any square\n",
    "as long as not occupied by one of its own. \n",
    "\n",
    "- Bishop, Queen - These pieces also have no special rules however, they are contrained by their own pieces as they can't\n",
    "jump unlie the knight\n",
    "\n",
    "GROUP 2: Depends on the move before:\n",
    "\n",
    "- Pawn - Be wary of en passant! - Also have to consider promotions\n",
    "\n",
    "GROUP 3: Depends on how pieces have moved throughout entire game.\n",
    "\n",
    "- King, Rook - These pieces can move in special ways via castling, both king and queenside, so we have to \n",
    "create functions that allow us to check if castling is legal, on either side: 1) King and Knight can't have already move. \n",
    "2)You can't castle into or through check. It seems best to write these pieces last as these moves depend and can be \n",
    "influnced by every other piece. Note, movement rules do not depend on position but rather if thay have already moved.\n",
    "\n",
    "The King is the most complex pieces.\n",
    "\"\"\""
   ]
  },
  {
   "cell_type": "code",
   "execution_count": null,
   "metadata": {},
   "outputs": [],
   "source": [
    "#To define how pieces move, i shall write a function that generates an array of legal squares\n"
   ]
  },
  {
   "cell_type": "code",
   "execution_count": null,
   "metadata": {},
   "outputs": [],
   "source": [
    "\"\"\"\n",
    "In essence whatever the starting position of white, we either add or subtract 1 or 2 to each square value\n",
    "If any are not on (0,7) then we remove them as they are not on the board\n",
    "If they land on their own piece its not allowed\n",
    "\"\"\"\n",
    "def possible_knight_positions(initial_square,position): #Note enter initial_square as a str\n",
    "    \n",
    "    xlabel = int(initial_square[0]) \n",
    "    ylabel =int(initial_square[1]) \n",
    "    \n",
    "    #print(xlabel)\n",
    "    #print(ylabel)\n",
    "    \n",
    "    #Probably could be made cleaner later\n",
    "    x_addition = np.array([-2,-2,-1,-1,1,1,2,2])\n",
    "    y_addition = np.array([1,-1,2,-2,2,-2,1,-1])\n",
    "    possible_x = x_addition + xlabel\n",
    "    possible_y = y_addition + ylabel\n",
    "    \n",
    "    tuple_of_possible_positions = list(zip(possible_x,possible_y))\n",
    "    \n",
    "    \n",
    "    #Removing tuples not on the board\n",
    "    acceptable_values = [0,1,2,3,4,5,6,7]\n",
    "    result1 = [i for i in tuple_of_possible_positions if i[0] in acceptable_values]\n",
    "    \"\"\"\n",
    "In essence whatever the starting position of white, we either add or subtract 1 or 2 to each square value\n",
    "If any are not on (0,7) then we remove them as they are not on the board\n",
    "If they land on their own piece its not allowed\n",
    "\"\"\"\n",
    "def possible_knight_positions(initial_square,position): #Note enter initial_square as a str\n",
    "    \n",
    "    xlabel = int(initial_square[0]) \n",
    "    ylabel =int(initial_square[1]) \n",
    "    \n",
    "    #print(xlabel)\n",
    "    #print(ylabel)\n",
    "    \n",
    "    #Possible knights mo\n",
    "    x_addition = np.array([-2,-2,-1,-1,1,1,2,2])\n",
    "    y_addition = np.array([1,-1,2,-2,2,-2,1,-1])\n",
    "    possible_x = x_addition + xlabel\n",
    "    possible_y = y_addition + ylabel\n",
    "    \n",
    "    tuple_of_possible_positions = list(zip(possible_x,possible_y))\n",
    "    \n",
    "    \n",
    "    #Removing tuples not on the board\n",
    "    acceptable_values = [0,1,2,3,4,5,6,7]\n",
    "    result1 = [i for i in tuple_of_possible_positions if i[0] in acceptable_values]\n",
    "    result2 = [i for i in result1 if i[1] in acceptable_values]\n",
    "    \n",
    "     #Removing tuples that represent taking own piece\n",
    "    for i in \n",
    "    \n",
    "    \n",
    "    \n",
    "    \n",
    "    \n",
    "    \n",
    "    \n",
    "    #Now we remove elements from tuple_of_possible_positions if they contain numbers not in 0 - 7\n",
    "    #for index, tuples in enumerate(tuple_of_possible_positions):\n",
    "       # xlabel, ylabel = tuples[0], tuples[1]\n",
    "       # if xlabel not in [0,1,2,3,4,5,6,7]:\n",
    "        #    tuple_of_possible_positions.pop(index)\n",
    "            \n",
    "       # if ylabel not in [0,1,2,3,4,5,6,7]:\n",
    "         #   tuple_of_possible_positions.pop(index)\n",
    "    \n",
    "   # print(tuple_of_possible_positions)\n",
    "     \n",
    "     = [i for i in result1 if i[1] in acceptable_values]\n",
    "    \n",
    "   \n",
    "    \n",
    "    \n",
    "    \n",
    "    \n",
    "    \n",
    "    #Now we remove elements from tuple_of_possible_positions if they contain numbers not in 0 - 7\n",
    "    #for index, tuples in enumerate(tuple_of_possible_positions):\n",
    "       # xlabel, ylabel = tuples[0], tuples[1]\n",
    "       # if xlabel not in [0,1,2,3,4,5,6,7]:\n",
    "        #    tuple_of_possible_positions.pop(index)\n",
    "            \n",
    "       # if ylabel not in [0,1,2,3,4,5,6,7]:\n",
    "         #   tuple_of_possible_positions.pop(index)\n",
    "    \n",
    "   # print(tuple_of_possible_positions)\n",
    "     \n",
    "    "
   ]
  },
  {
   "cell_type": "markdown",
   "metadata": {},
   "source": [
    "\n",
    "    "
   ]
  },
  {
   "cell_type": "markdown",
   "metadata": {},
   "source": [
    "\n",
    "    "
   ]
  },
  {
   "cell_type": "markdown",
   "metadata": {},
   "source": [
    "\n",
    "    "
   ]
  },
  {
   "cell_type": "markdown",
   "metadata": {},
   "source": []
  },
  {
   "cell_type": "code",
   "execution_count": 88,
   "metadata": {},
   "outputs": [
    {
     "name": "stdout",
     "output_type": "stream",
     "text": [
      "[(5, 2), (5, 0), (6, 3), (6, -1), (8, 3), (8, -1), (9, 2), (9, 0)]\n",
      "[(5, 2), (5, 0), (6, 3)]\n"
     ]
    }
   ],
   "source": [
    "possible_knight_positions('71',Board)"
   ]
  },
  {
   "cell_type": "code",
   "execution_count": 69,
   "metadata": {},
   "outputs": [
    {
     "ename": "NameError",
     "evalue": "name 'my' is not defined",
     "output_type": "error",
     "traceback": [
      "\u001b[0;31m---------------------------------------------------------------------------\u001b[0m",
      "\u001b[0;31mNameError\u001b[0m                                 Traceback (most recent call last)",
      "\u001b[0;32m<ipython-input-69-cbd4f84c2acb>\u001b[0m in \u001b[0;36m<module>\u001b[0;34m\u001b[0m\n\u001b[1;32m      2\u001b[0m \u001b[0;32mfor\u001b[0m \u001b[0mj\u001b[0m\u001b[0;34m,\u001b[0m\u001b[0mk\u001b[0m \u001b[0;32min\u001b[0m \u001b[0mmylist\u001b[0m\u001b[0;34m:\u001b[0m\u001b[0;34m\u001b[0m\u001b[0;34m\u001b[0m\u001b[0m\n\u001b[1;32m      3\u001b[0m     \u001b[0;32mif\u001b[0m \u001b[0mj\u001b[0m \u001b[0;32mor\u001b[0m \u001b[0mk\u001b[0m \u001b[0;32mnot\u001b[0m \u001b[0;32min\u001b[0m \u001b[0;34m[\u001b[0m\u001b[0;36m0\u001b[0m\u001b[0;34m,\u001b[0m\u001b[0;36m1\u001b[0m\u001b[0;34m,\u001b[0m\u001b[0;36m2\u001b[0m\u001b[0;34m,\u001b[0m\u001b[0;36m3\u001b[0m\u001b[0;34m,\u001b[0m\u001b[0;36m4\u001b[0m\u001b[0;34m,\u001b[0m\u001b[0;36m5\u001b[0m\u001b[0;34m,\u001b[0m\u001b[0;36m6\u001b[0m\u001b[0;34m,\u001b[0m\u001b[0;36m7\u001b[0m\u001b[0;34m]\u001b[0m\u001b[0;34m:\u001b[0m\u001b[0;34m\u001b[0m\u001b[0;34m\u001b[0m\u001b[0m\n\u001b[0;32m----> 4\u001b[0;31m         \u001b[0mmy\u001b[0m\u001b[0;34m\u001b[0m\u001b[0;34m\u001b[0m\u001b[0m\n\u001b[0m",
      "\u001b[0;31mNameError\u001b[0m: name 'my' is not defined"
     ]
    }
   ],
   "source": [
    "mylist = [(1,2),(3,4),(4,6),(7,8)]\n",
    "for j,k in mylist:\n",
    "    if j or k not in [0,1,2,3,4,5,6,7]:\n",
    "        my"
   ]
  },
  {
   "cell_type": "code",
   "execution_count": 9,
   "metadata": {},
   "outputs": [
    {
     "ename": "TypeError",
     "evalue": "'int' object is not subscriptable",
     "output_type": "error",
     "traceback": [
      "\u001b[0;31m---------------------------------------------------------------------------\u001b[0m",
      "\u001b[0;31mTypeError\u001b[0m                                 Traceback (most recent call last)",
      "\u001b[0;32m<ipython-input-9-f06ae8815425>\u001b[0m in \u001b[0;36m<module>\u001b[0;34m\u001b[0m\n\u001b[1;32m      1\u001b[0m \u001b[0mnumber\u001b[0m \u001b[0;34m=\u001b[0m \u001b[0;36m11\u001b[0m\u001b[0;34m\u001b[0m\u001b[0;34m\u001b[0m\u001b[0m\n\u001b[0;32m----> 2\u001b[0;31m \u001b[0mnumber\u001b[0m\u001b[0;34m[\u001b[0m\u001b[0;36m0\u001b[0m\u001b[0;34m]\u001b[0m\u001b[0;34m\u001b[0m\u001b[0;34m\u001b[0m\u001b[0m\n\u001b[0m",
      "\u001b[0;31mTypeError\u001b[0m: 'int' object is not subscriptable"
     ]
    }
   ],
   "source": [
    "def myfunc(a,b):\n",
    "    list_of_possible = []\n",
    "    values = [-2,-1,1,2]\n",
    "    \n",
    "    "
   ]
  },
  {
   "cell_type": "code",
   "execution_count": null,
   "metadata": {},
   "outputs": [],
   "source": [
    "def possible_bishop_positions(initial_square,position):\n",
    "    "
   ]
  },
  {
   "cell_type": "code",
   "execution_count": null,
   "metadata": {},
   "outputs": [],
   "source": [
    "def possible_queen_positions(initial_square,position):"
   ]
  },
  {
   "cell_type": "code",
   "execution_count": null,
   "metadata": {},
   "outputs": [],
   "source": [
    "def possible_pawn_positions(initial_square,position, enpassant, Promotion = 'Queen'):\n",
    "    "
   ]
  },
  {
   "cell_type": "code",
   "execution_count": null,
   "metadata": {},
   "outputs": [],
   "source": [
    "def possible_rook_positions(initial_square, position, Castle_avaible_kingside, Castle_avaible_queenside):"
   ]
  },
  {
   "cell_type": "code",
   "execution_count": null,
   "metadata": {},
   "outputs": [],
   "source": [
    "def possible_King_positions(initial_square, position, Castle_avaible_kingside, Castle_avaible_queenside):\n",
    "    "
   ]
  },
  {
   "cell_type": "code",
   "execution_count": null,
   "metadata": {},
   "outputs": [],
   "source": [
    "#First we write a function to alter our Board\n",
    "def move_a_piece(initial_square, target_square, chess_position): #Enter a digit number corresponding to our Board array\n",
    "    if initial_square not in Allowable_squares:\n",
    "        print('target_square format incorrect')\n",
    "    elif target_square not in Allowable_squares:\n",
    "        print('target_square format incorrect')\n",
    "    else:\n",
    "        initial_square_index1, initial_square_index2 = int(initial_square[0]) , int(initial_square[1])\n",
    "        target_square_index1, target_square_index2 = int(target_square[0]) , int(target_square[1])\n",
    "        print(chess_position[initial_square_index1],chess_position[initial_square_index1])\n",
    "    "
   ]
  },
  {
   "cell_type": "code",
   "execution_count": null,
   "metadata": {},
   "outputs": [],
   "source": [
    "'01'[0]"
   ]
  },
  {
   "cell_type": "code",
   "execution_count": null,
   "metadata": {},
   "outputs": [],
   "source": [
    "move_a_piece('01', '02')\n",
    "    "
   ]
  },
  {
   "cell_type": "code",
   "execution_count": null,
   "metadata": {},
   "outputs": [],
   "source": []
  },
  {
   "cell_type": "code",
   "execution_count": null,
   "metadata": {},
   "outputs": [],
   "source": []
  },
  {
   "cell_type": "code",
   "execution_count": null,
   "metadata": {},
   "outputs": [],
   "source": [
    "game_over = False\n",
    "turn ==0:\n",
    "while not game_over:\n",
    "    if turn == 0:\n",
    "        move == input()\n",
    "    \n",
    "    if turn == 0:\n",
    "        "
   ]
  }
 ],
 "metadata": {
  "kernelspec": {
   "display_name": "Python 3",
   "language": "python",
   "name": "python3"
  },
  "language_info": {
   "codemirror_mode": {
    "name": "ipython",
    "version": 3
   },
   "file_extension": ".py",
   "mimetype": "text/x-python",
   "name": "python",
   "nbconvert_exporter": "python",
   "pygments_lexer": "ipython3",
   "version": "3.7.3"
  }
 },
 "nbformat": 4,
 "nbformat_minor": 2
}
